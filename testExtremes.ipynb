{
 "cells": [
  {
   "cell_type": "code",
   "execution_count": 1,
   "metadata": {},
   "outputs": [],
   "source": [
    "%load_ext autoreload"
   ]
  },
  {
   "cell_type": "code",
   "execution_count": 2,
   "metadata": {},
   "outputs": [],
   "source": [
    "%autoreload 2"
   ]
  },
  {
   "cell_type": "code",
   "execution_count": 3,
   "metadata": {},
   "outputs": [],
   "source": [
    "import sys\n",
    "sys.path.append('/home/mehdi/github/LSSutils')"
   ]
  },
  {
   "cell_type": "code",
   "execution_count": 6,
   "metadata": {},
   "outputs": [],
   "source": [
    "import LSSutils.lab as lab\n",
    "from LSSutils.catalogs.combinefits import reassignment"
   ]
  },
  {
   "cell_type": "code",
   "execution_count": 7,
   "metadata": {},
   "outputs": [],
   "source": [
    "import fitsio as ft"
   ]
  },
  {
   "cell_type": "code",
   "execution_count": 32,
   "metadata": {},
   "outputs": [],
   "source": [
    "mock_path = '/B/Shared/mehdi/eboss/mocks/NGC_0009_contaminated/EZmock_eBOSS_QSO_NGC_v7_0.2_plain_lowmid_0009.dat.fits'\n",
    "mock = ft.read(mock_path)\n",
    "random = ft.read(mock_path.replace('.dat.', '.ran.'))"
   ]
  },
  {
   "cell_type": "code",
   "execution_count": 33,
   "metadata": {},
   "outputs": [
    {
     "name": "stdout",
     "output_type": "stream",
     "text": [
      "3 1.3664313368253245e-05\n"
     ]
    }
   ],
   "source": [
    "good = mock['WEIGHT_SYSTOT'] < 2\n",
    "print((~good).sum(), (~good).mean())"
   ]
  },
  {
   "cell_type": "code",
   "execution_count": 12,
   "metadata": {},
   "outputs": [],
   "source": [
    "mock = mock[good]"
   ]
  },
  {
   "cell_type": "code",
   "execution_count": 13,
   "metadata": {},
   "outputs": [],
   "source": [
    "random_good = reassignment(random, mock)"
   ]
  },
  {
   "cell_type": "code",
   "execution_count": 16,
   "metadata": {},
   "outputs": [],
   "source": [
    "!mkdir /B/Shared/mehdi/eboss/mocks/NGC_0009_contaminated/test_wsys"
   ]
  },
  {
   "cell_type": "code",
   "execution_count": 17,
   "metadata": {},
   "outputs": [],
   "source": [
    "random_good.write('/B/Shared/mehdi/eboss/mocks/NGC_0009_contaminated/test_wsys/randoms.fits')"
   ]
  },
  {
   "cell_type": "code",
   "execution_count": 18,
   "metadata": {},
   "outputs": [],
   "source": [
    "ft.write('/B/Shared/mehdi/eboss/mocks/NGC_0009_contaminated/test_wsys/mocks.fits', mock)"
   ]
  },
  {
   "cell_type": "code",
   "execution_count": 19,
   "metadata": {},
   "outputs": [
    {
     "data": {
      "text/plain": [
       "(0.7458633057982792, 1.8539201989925385)"
      ]
     },
     "execution_count": 19,
     "metadata": {},
     "output_type": "execute_result"
    }
   ],
   "source": [
    "mock['WEIGHT_SYSTOT'].min(), mock['WEIGHT_SYSTOT'].max()"
   ]
  },
  {
   "cell_type": "markdown",
   "metadata": {},
   "source": [
    "run nbodykit"
   ]
  },
  {
   "cell_type": "code",
   "execution_count": 28,
   "metadata": {},
   "outputs": [],
   "source": [
    "path = '/B/Shared/mehdi/eboss/mocks/NGC_0009_contaminated/'\n",
    "pathn = '/B/Shared/mehdi/eboss/mocks/NGC_0009_null/'\n",
    "\n",
    "# --- \n",
    "pk_fix = lab.io.readnbodykit(f'{path}test_wsys/pk_9_plain2z.txt')\n",
    "pk = lab.io.readnbodykit(f'{path}pk_QSO_NGC_v7_0.2_plain_lowmid_0009_contaminated_512_standard.txt')\n",
    "pk_null = lab.io.readnbodykit(f'{pathn}pk_QSO_NGC_v7_0.2_known_lowmid_0009_null_512_standard.txt')"
   ]
  },
  {
   "cell_type": "code",
   "execution_count": 29,
   "metadata": {},
   "outputs": [
    {
     "data": {
      "text/plain": [
       "(176230.90452566024, 65210.00930758373)"
      ]
     },
     "execution_count": 29,
     "metadata": {},
     "output_type": "execute_result"
    }
   ],
   "source": [
    "pk[1], pk_fix[1]"
   ]
  },
  {
   "cell_type": "code",
   "execution_count": 25,
   "metadata": {},
   "outputs": [],
   "source": [
    "import matplotlib.pyplot as plt"
   ]
  },
  {
   "cell_type": "code",
   "execution_count": 31,
   "metadata": {},
   "outputs": [
    {
     "data": {
      "text/plain": [
       "<matplotlib.legend.Legend at 0x7f0db34ccb10>"
      ]
     },
     "execution_count": 31,
     "metadata": {},
     "output_type": "execute_result"
    },
    {
     "data": {
      "image/png": "[encoded data removed]",
      "text/plain": [
       "<Figure size 432x288 with 1 Axes>"
      ]
     },
     "metadata": {
      "needs_background": "light"
     },
     "output_type": "display_data"
    }
   ],
   "source": [
    "for pki, label in zip([pk, pk_fix, pk_null], ['w extreme', 'w/o extreme', 'null']):\n",
    "    plt.loglog(pki[0][:,0], pki[0][:, 2]-pki[1], label=label)\n",
    "plt.legend()"
   ]
  },
  {
   "cell_type": "code",
   "execution_count": null,
   "metadata": {},
   "outputs": [],
   "source": []
  }
 ],
 "metadata": {
  "kernelspec": {
   "display_name": "python (py3p6)",
   "language": "python",
   "name": "py3p6"
  },
  "language_info": {
   "codemirror_mode": {
    "name": "ipython",
    "version": 3
   },
   "file_extension": ".py",
   "mimetype": "text/x-python",
   "name": "python",
   "nbconvert_exporter": "python",
   "pygments_lexer": "ipython3",
   "version": "3.7.4"
  }
 },
 "nbformat": 4,
 "nbformat_minor": 2
}
