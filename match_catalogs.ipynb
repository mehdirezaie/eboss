{
 "cells": [
  {
   "cell_type": "code",
   "execution_count": 1,
   "metadata": {},
   "outputs": [],
   "source": [
    "%matplotlib inline\n",
    "import matplotlib.pyplot as plt\n",
    "import fitsio as ft\n",
    "import numpy as np"
   ]
  },
  {
   "cell_type": "code",
   "execution_count": 2,
   "metadata": {},
   "outputs": [],
   "source": [
    "import sys\n",
    "sys.path.append('/home/mehdi/github/LSSutils')"
   ]
  },
  {
   "cell_type": "code",
   "execution_count": 3,
   "metadata": {},
   "outputs": [],
   "source": [
    "from LSSutils.extrn.spherematch import spherematch"
   ]
  },
  {
   "cell_type": "code",
   "execution_count": 4,
   "metadata": {},
   "outputs": [],
   "source": [
    "from LSSutils.lab import EbossCatalog"
   ]
  },
  {
   "cell_type": "code",
   "execution_count": 5,
   "metadata": {},
   "outputs": [],
   "source": [
    "dr16 = ft.read('/B/Shared/mehdi/eboss/data/DR16Q_v3.fits')\n",
    "fullngc = ft.read('/B/Shared/mehdi/eboss/data/v7_2/eBOSS_QSO_full_NGC_v7_2.dat.fits')"
   ]
  },
  {
   "cell_type": "code",
   "execution_count": 6,
   "metadata": {},
   "outputs": [],
   "source": [
    "m = (0.4 < fullngc['Z']) &( fullngc['Z'] < 3.8)\n",
    "m &= (fullngc['COMP_BOSS'] > 0.5) & (fullngc['sector_SSR'] > 0.5)\n",
    "m &= ((fullngc['IMATCH'] == 1) | (fullngc['IMATCH'] == 2))\n",
    "#m.sum()\n",
    "fullngc = fullngc[m]"
   ]
  },
  {
   "cell_type": "code",
   "execution_count": null,
   "metadata": {},
   "outputs": [],
   "source": [
    "'''\n",
    "In current catalog code, sphere-match is used for legacy objects, which have IMATCH=2 in the full files. \n",
    "THING_ID is used for eboss observations, which have IMATCH=1\n",
    "'''"
   ]
  },
  {
   "cell_type": "code",
   "execution_count": 7,
   "metadata": {},
   "outputs": [],
   "source": [
    "legacy = fullngc[fullngc['IMATCH'] == 2]\n",
    "others = fullngc[fullngc['IMATCH'] == 1]"
   ]
  },
  {
   "cell_type": "code",
   "execution_count": 8,
   "metadata": {},
   "outputs": [
    {
     "data": {
      "text/plain": [
       "(88914, 197200)"
      ]
     },
     "execution_count": 8,
     "metadata": {},
     "output_type": "execute_result"
    }
   ],
   "source": [
    "legacy.size, others.size"
   ]
  },
  {
   "cell_type": "code",
   "execution_count": 9,
   "metadata": {},
   "outputs": [],
   "source": [
    "# 1 deg = 3600 arcsec\n",
    "id_legacy, id_dr16, dis = spherematch(legacy['RA'], legacy['DEC'], \n",
    "                                      dr16['RA'], dr16['DEC'], tol=2./3600.)"
   ]
  },
  {
   "cell_type": "code",
   "execution_count": 10,
   "metadata": {},
   "outputs": [
    {
     "data": {
      "text/plain": [
       "(88889, 88914)"
      ]
     },
     "execution_count": 10,
     "metadata": {},
     "output_type": "execute_result"
    }
   ],
   "source": [
    "id_legacy.size, legacy.size"
   ]
  },
  {
   "cell_type": "code",
   "execution_count": 11,
   "metadata": {},
   "outputs": [],
   "source": [
    "legacy_not_in_dr16 = np.setdiff1d(np.arange(legacy.size), id_legacy)"
   ]
  },
  {
   "cell_type": "code",
   "execution_count": 12,
   "metadata": {},
   "outputs": [
    {
     "data": {
      "text/plain": [
       "0.9997188294306858"
      ]
     },
     "execution_count": 12,
     "metadata": {},
     "output_type": "execute_result"
    }
   ],
   "source": [
    "1 - legacy_not_in_dr16.size / legacy.size"
   ]
  },
  {
   "cell_type": "code",
   "execution_count": 37,
   "metadata": {},
   "outputs": [
    {
     "data": {
      "text/plain": [
       "165"
      ]
     },
     "execution_count": 37,
     "metadata": {},
     "output_type": "execute_result"
    }
   ],
   "source": [
    "np.setdiff1d(others['THING_ID'], dr16['THING_ID']).size"
   ]
  },
  {
   "cell_type": "code",
   "execution_count": 13,
   "metadata": {},
   "outputs": [],
   "source": [
    "legacy_z_lyawg = dr16['Z_LYAWG'][id_dr16]"
   ]
  },
  {
   "cell_type": "code",
   "execution_count": 14,
   "metadata": {},
   "outputs": [],
   "source": [
    "z_lyawg = {}\n",
    "for i in range(dr16.size):\n",
    "    z_lyawg[dr16['THING_ID'][i]] = dr16['Z_LYAWG'][i]\n",
    "    \n",
    "other_z_lyawg = []\n",
    "for idx in others['THING_ID']:\n",
    "    if idx not in z_lyawg:\n",
    "        other_z_lyawg.append(-1)\n",
    "    else:\n",
    "        other_z_lyawg.append(z_lyawg[idx])    "
   ]
  },
  {
   "cell_type": "code",
   "execution_count": 15,
   "metadata": {},
   "outputs": [
    {
     "data": {
      "text/plain": [
       "Text(0, 0.5, 'Z LYAWG [from DR16]')"
      ]
     },
     "execution_count": 15,
     "metadata": {},
     "output_type": "execute_result"
    },
    {
     "data": {
      "image/png": "[encoded data removed]",
      "text/plain": [
       "<Figure size 432x288 with 1 Axes>"
      ]
     },
     "metadata": {
      "needs_background": "light"
     },
     "output_type": "display_data"
    }
   ],
   "source": [
    "plt.scatter(legacy['Z'][id_legacy], legacy_z_lyawg,\n",
    "            marker='x', label='LEGACY', c='#676ef5')\n",
    "plt.scatter(legacy['Z'][legacy_not_in_dr16], -0.5*np.ones(legacy_not_in_dr16.size), \n",
    "            marker='x', c='#676ef5')\n",
    "\n",
    "plt.scatter(others['Z'], other_z_lyawg,\n",
    "            c='#eb9d21', alpha=0.8, marker='.', label='eBOSS')\n",
    "\n",
    "plt.legend()\n",
    "plt.xlabel('Z [from full]')\n",
    "plt.ylabel('Z LYAWG [from DR16]')"
   ]
  },
  {
   "cell_type": "code",
   "execution_count": 29,
   "metadata": {},
   "outputs": [],
   "source": [
    "others_good = (np.array(other_z_lyawg) != -1)\n",
    "legacy_good = (legacy_z_lyawg != -1)"
   ]
  },
  {
   "cell_type": "code",
   "execution_count": 30,
   "metadata": {},
   "outputs": [
    {
     "data": {
      "text/plain": [
       "(0.9924898580121704, 0.9984475019406226)"
      ]
     },
     "execution_count": 30,
     "metadata": {},
     "output_type": "execute_result"
    }
   ],
   "source": [
    "others_good.mean(), legacy_good.mean()"
   ]
  },
  {
   "cell_type": "code",
   "execution_count": 49,
   "metadata": {},
   "outputs": [],
   "source": [
    "def get_mean_rms(z1, z2):\n",
    "    dz = z1 - z2\n",
    "    m = abs(dz) < 0.45\n",
    "    print((~m).sum(), z1[~m], z2[~m], end=' ')\n",
    "    dz = dz[m]\n",
    "    print(np.percentile(dz, [0, 1, 99, 100]))\n",
    "    return np.mean(dz), np.sqrt(np.mean(dz*dz))"
   ]
  },
  {
   "cell_type": "code",
   "execution_count": 50,
   "metadata": {},
   "outputs": [
    {
     "name": "stdout",
     "output_type": "stream",
     "text": [
      "0 [] [] [-0.18874408 -0.00265073  0.00890444  0.15539462]\n"
     ]
    },
    {
     "data": {
      "text/plain": [
       "(0.00034906730806667476, 0.003046612165713866)"
      ]
     },
     "execution_count": 50,
     "metadata": {},
     "output_type": "execute_result"
    }
   ],
   "source": [
    "get_mean_rms(np.array(other_z_lyawg)[others_good], others['Z'][others_good])"
   ]
  },
  {
   "cell_type": "code",
   "execution_count": 51,
   "metadata": {},
   "outputs": [
    {
     "name": "stdout",
     "output_type": "stream",
     "text": [
      "1 [0.91059058] [1.4251572] [-0.12849394 -0.02454971  0.0154275   0.19677569]\n"
     ]
    },
    {
     "data": {
      "text/plain": [
       "(-0.0014735903274783627, 0.007406393884250385)"
      ]
     },
     "execution_count": 51,
     "metadata": {},
     "output_type": "execute_result"
    }
   ],
   "source": [
    "get_mean_rms(legacy['Z'][id_legacy][legacy_good], legacy_z_lyawg[legacy_good])"
   ]
  },
  {
   "cell_type": "code",
   "execution_count": 56,
   "metadata": {},
   "outputs": [
    {
     "data": {
      "text/plain": [
       "Text(0.5, 0, 'Z')"
      ]
     },
     "execution_count": 56,
     "metadata": {},
     "output_type": "execute_result"
    },
    {
     "data": {
      "image/png": "[encoded data removed]",
      "text/plain": [
       "<Figure size 432x288 with 1 Axes>"
      ]
     },
     "metadata": {
      "needs_background": "light"
     },
     "output_type": "display_data"
    }
   ],
   "source": [
    "plt.scatter(legacy['Z'][id_legacy][legacy_good], legacy_z_lyawg[legacy_good]-legacy['Z'][id_legacy][legacy_good], 2)\n",
    "plt.scatter(others['Z'][others_good], np.array(other_z_lyawg)[others_good]-others['Z'][others_good], 2)\n",
    "plt.legend(['Legacy', 'eBOSS'])\n",
    "plt.ylim(-0.6, 0.6)\n",
    "plt.ylabel(r'Z_LYAWG - Z')\n",
    "plt.xlabel('Z')"
   ]
  },
  {
   "cell_type": "code",
   "execution_count": null,
   "metadata": {},
   "outputs": [],
   "source": []
  },
  {
   "cell_type": "code",
   "execution_count": 16,
   "metadata": {},
   "outputs": [
    {
     "data": {
      "text/plain": [
       "25"
      ]
     },
     "execution_count": 16,
     "metadata": {},
     "output_type": "execute_result"
    }
   ],
   "source": [
    "# nums of legacy objects that did not find a match\n",
    "legacy_not_in_dr16.size"
   ]
  },
  {
   "cell_type": "code",
   "execution_count": 17,
   "metadata": {},
   "outputs": [
    {
     "data": {
      "text/plain": [
       "138"
      ]
     },
     "execution_count": 17,
     "metadata": {},
     "output_type": "execute_result"
    }
   ],
   "source": [
    "# num of legacy objs found a match, but the match has z_lyawg = -1\n",
    "(legacy_z_lyawg == -1).sum()  "
   ]
  },
  {
   "cell_type": "code",
   "execution_count": 18,
   "metadata": {},
   "outputs": [
    {
     "data": {
      "text/plain": [
       "1481"
      ]
     },
     "execution_count": 18,
     "metadata": {},
     "output_type": "execute_result"
    }
   ],
   "source": [
    "# num of eboss objs found a match, but the match has z_lyawg = -1\n",
    "(np.array(other_z_lyawg) == -1).sum() "
   ]
  },
  {
   "cell_type": "code",
   "execution_count": 19,
   "metadata": {},
   "outputs": [
    {
     "data": {
      "text/plain": [
       "(197200, 88914)"
      ]
     },
     "execution_count": 19,
     "metadata": {},
     "output_type": "execute_result"
    }
   ],
   "source": [
    "# num of eboss, # of legacy\n",
    "others.size, legacy.size"
   ]
  },
  {
   "cell_type": "code",
   "execution_count": null,
   "metadata": {},
   "outputs": [],
   "source": []
  },
  {
   "cell_type": "code",
   "execution_count": null,
   "metadata": {},
   "outputs": [],
   "source": []
  },
  {
   "cell_type": "code",
   "execution_count": null,
   "metadata": {},
   "outputs": [],
   "source": []
  },
  {
   "cell_type": "code",
   "execution_count": null,
   "metadata": {},
   "outputs": [],
   "source": []
  },
  {
   "cell_type": "code",
   "execution_count": null,
   "metadata": {},
   "outputs": [],
   "source": []
  },
  {
   "cell_type": "code",
   "execution_count": 22,
   "metadata": {},
   "outputs": [
    {
     "data": {
      "text/plain": [
       "Text(0, 0.5, 'sep [arcsec]')"
      ]
     },
     "execution_count": 22,
     "metadata": {},
     "output_type": "execute_result"
    },
    {
     "data": {
      "image/png": "[encoded data removed]",
      "text/plain": [
       "<Figure size 432x288 with 1 Axes>"
      ]
     },
     "metadata": {
      "needs_background": "light"
     },
     "output_type": "display_data"
    }
   ],
   "source": [
    "plt.scatter(np.arange(dis.size), dis*3600., 2, c='k', marker='.')\n",
    "plt.axhline(2., ls='--', c='grey')\n",
    "plt.xlabel('obj id')\n",
    "plt.ylabel('sep [arcsec]')"
   ]
  },
  {
   "cell_type": "code",
   "execution_count": 14,
   "metadata": {},
   "outputs": [
    {
     "data": {
      "text/plain": [
       "0.9997188294306858"
      ]
     },
     "execution_count": 14,
     "metadata": {},
     "output_type": "execute_result"
    }
   ],
   "source": [
    "id_legacy.size / legacy.size"
   ]
  },
  {
   "cell_type": "code",
   "execution_count": 25,
   "metadata": {},
   "outputs": [],
   "source": []
  },
  {
   "cell_type": "code",
   "execution_count": 107,
   "metadata": {},
   "outputs": [
    {
     "data": {
      "text/plain": [
       "(-1, 563078069)"
      ]
     },
     "execution_count": 107,
     "metadata": {},
     "output_type": "execute_result"
    }
   ],
   "source": [
    "dr16['THING_ID'].min(), dr16['THING_ID'].max()"
   ]
  },
  {
   "cell_type": "code",
   "execution_count": 19,
   "metadata": {},
   "outputs": [],
   "source": []
  },
  {
   "cell_type": "code",
   "execution_count": 22,
   "metadata": {},
   "outputs": [],
   "source": []
  },
  {
   "cell_type": "code",
   "execution_count": 26,
   "metadata": {},
   "outputs": [
    {
     "data": {
      "text/plain": [
       "Text(0, 0.5, 'Z LYAWG [from DR16]')"
      ]
     },
     "execution_count": 26,
     "metadata": {},
     "output_type": "execute_result"
    },
    {
     "data": {
      "image/png": "[encoded data removed]",
      "text/plain": [
       "<Figure size 432x288 with 1 Axes>"
      ]
     },
     "metadata": {
      "needs_background": "light"
     },
     "output_type": "display_data"
    }
   ],
   "source": [
    "plt.scatter(other_z_lyawg, others['Z'], c='b', alpha=0.5)\n",
    "plt.scatter(legacy['Z'][id_legacy], legacy_z_lyawg,\n",
    "            c='k', marker='.', alpha=0.5)\n",
    "plt.xlabel('Z [from full]')\n",
    "plt.ylabel('Z LYAWG [from DR16]')"
   ]
  },
  {
   "cell_type": "code",
   "execution_count": null,
   "metadata": {},
   "outputs": [],
   "source": []
  },
  {
   "cell_type": "code",
   "execution_count": null,
   "metadata": {},
   "outputs": [],
   "source": []
  },
  {
   "cell_type": "code",
   "execution_count": 15,
   "metadata": {},
   "outputs": [
    {
     "data": {
      "text/plain": [
       "array([       -1,   7095815,   7537609, ..., 563023389, 563038883,\n",
       "       563078069])"
      ]
     },
     "execution_count": 15,
     "metadata": {},
     "output_type": "execute_result"
    }
   ],
   "source": [
    "np.unique(dr16['THING_ID'])"
   ]
  },
  {
   "cell_type": "code",
   "execution_count": 16,
   "metadata": {},
   "outputs": [
    {
     "data": {
      "text/plain": [
       "array([253043834, 253059639, 253111665, ..., 527789346, 527811397,\n",
       "       527818025])"
      ]
     },
     "execution_count": 16,
     "metadata": {},
     "output_type": "execute_result"
    }
   ],
   "source": [
    "np.unique(others['THING_ID'])"
   ]
  },
  {
   "cell_type": "code",
   "execution_count": 106,
   "metadata": {},
   "outputs": [
    {
     "name": "stdout",
     "output_type": "stream",
     "text": [
      ".........................................................................................................................................................................................................................................................................................................................................................................................................................................................................................................................................................................................................................................................................................................................................................................................................................................................................................................................................................................................................................................................................................................................................................................................................................................................................................................................................................................................................................................................................."
     ]
    },
    {
     "ename": "KeyboardInterrupt",
     "evalue": "",
     "output_type": "error",
     "traceback": [
      "\u001b[0;31m---------------------------------------------------------------------------\u001b[0m",
      "\u001b[0;31mKeyboardInterrupt\u001b[0m                         Traceback (most recent call last)",
      "\u001b[0;32m<ipython-input-106-d55deed575a2>\u001b[0m in \u001b[0;36m<module>\u001b[0;34m\u001b[0m\n\u001b[1;32m      6\u001b[0m \u001b[0;32mfor\u001b[0m \u001b[0mj\u001b[0m\u001b[0;34m,\u001b[0m \u001b[0moth_id\u001b[0m \u001b[0;32min\u001b[0m \u001b[0menumerate\u001b[0m\u001b[0;34m(\u001b[0m\u001b[0mothers\u001b[0m\u001b[0;34m[\u001b[0m\u001b[0;34m'THING_ID'\u001b[0m\u001b[0;34m]\u001b[0m\u001b[0;34m)\u001b[0m\u001b[0;34m:\u001b[0m\u001b[0;34m\u001b[0m\u001b[0;34m\u001b[0m\u001b[0m\n\u001b[1;32m      7\u001b[0m \u001b[0;34m\u001b[0m\u001b[0m\n\u001b[0;32m----> 8\u001b[0;31m     \u001b[0minx\u001b[0m \u001b[0;34m=\u001b[0m \u001b[0mnp\u001b[0m\u001b[0;34m.\u001b[0m\u001b[0margwhere\u001b[0m\u001b[0;34m(\u001b[0m\u001b[0mdr16_thingid\u001b[0m \u001b[0;34m==\u001b[0m \u001b[0moth_id\u001b[0m\u001b[0;34m)\u001b[0m\u001b[0;34m.\u001b[0m\u001b[0mflatten\u001b[0m\u001b[0;34m(\u001b[0m\u001b[0;34m)\u001b[0m\u001b[0;34m\u001b[0m\u001b[0;34m\u001b[0m\u001b[0m\n\u001b[0m\u001b[1;32m      9\u001b[0m     \u001b[0;32mif\u001b[0m \u001b[0mlen\u001b[0m\u001b[0;34m(\u001b[0m\u001b[0minx\u001b[0m\u001b[0;34m)\u001b[0m\u001b[0;34m!=\u001b[0m\u001b[0;36m0\u001b[0m\u001b[0;34m:\u001b[0m\u001b[0;34m\u001b[0m\u001b[0;34m\u001b[0m\u001b[0m\n\u001b[1;32m     10\u001b[0m         \u001b[0;31m#print(inx, others['Z'][j], dr16['Z_LYAWG'][inx])\u001b[0m\u001b[0;34m\u001b[0m\u001b[0;34m\u001b[0m\u001b[0;34m\u001b[0m\u001b[0m\n",
      "\u001b[0;31mKeyboardInterrupt\u001b[0m: "
     ]
    }
   ],
   "source": [
    "others_z_lyawg = []\n",
    "\n",
    "dr16_thingid = dr16['THING_ID']\n",
    "dr16_zlyawg = dr16['Z_LYAWG']\n",
    "\n",
    "for j, oth_id in enumerate(others['THING_ID']):\n",
    "    \n",
    "    inx = np.argwhere(dr16_thingid == oth_id).flatten()\n",
    "    if len(inx)!=0:\n",
    "        #print(inx, others['Z'][j], dr16['Z_LYAWG'][inx])\n",
    "        others_z_lyawg.append(dr16_zlyawg[inx[0]])\n",
    "    else:\n",
    "        others_z_lyawg.append(-2)\n",
    "    \n",
    "    if j%100==0:print('.', end='')\n",
    "#     continue"
   ]
  },
  {
   "cell_type": "code",
   "execution_count": 93,
   "metadata": {},
   "outputs": [
    {
     "data": {
      "text/plain": [
       "array([405570842, 376953805, 175096522, ..., 139887781, 292309197,\n",
       "       401165238])"
      ]
     },
     "execution_count": 93,
     "metadata": {},
     "output_type": "execute_result"
    }
   ],
   "source": [
    "dr16['THING_ID']"
   ]
  },
  {
   "cell_type": "code",
   "execution_count": 96,
   "metadata": {},
   "outputs": [
    {
     "data": {
      "text/plain": [
       "1"
      ]
     },
     "execution_count": 96,
     "metadata": {},
     "output_type": "execute_result"
    }
   ],
   "source": [
    "np.argwhere(dr16['THING_ID'] == 376953805).flatten()[0]"
   ]
  },
  {
   "cell_type": "code",
   "execution_count": 100,
   "metadata": {},
   "outputs": [
    {
     "data": {
      "text/plain": [
       "0"
      ]
     },
     "execution_count": 100,
     "metadata": {},
     "output_type": "execute_result"
    }
   ],
   "source": [
    "len(np.argwhere(dr16['THING_ID'] == 0).flatten())"
   ]
  },
  {
   "cell_type": "code",
   "execution_count": 82,
   "metadata": {},
   "outputs": [
    {
     "data": {
      "text/plain": [
       "array([   1,    1,    1, ...,    1,    1, 1085])"
      ]
     },
     "execution_count": 82,
     "metadata": {},
     "output_type": "execute_result"
    }
   ],
   "source": [
    "_, c = np.unique(dr16['THING_ID'], return_counts=True)\n",
    "np.sort(c)"
   ]
  },
  {
   "cell_type": "code",
   "execution_count": 70,
   "metadata": {},
   "outputs": [],
   "source": []
  },
  {
   "cell_type": "code",
   "execution_count": 71,
   "metadata": {},
   "outputs": [
    {
     "data": {
      "text/plain": [
       "(88914, 88889)"
      ]
     },
     "execution_count": 71,
     "metadata": {},
     "output_type": "execute_result"
    }
   ],
   "source": [
    "legacy.size, legacy_z_lyawg.size"
   ]
  },
  {
   "cell_type": "code",
   "execution_count": 75,
   "metadata": {},
   "outputs": [
    {
     "data": {
      "text/plain": [
       "Text(0, 0.5, 'Z LYAWG [from DR16]')"
      ]
     },
     "execution_count": 75,
     "metadata": {},
     "output_type": "execute_result"
    },
    {
     "data": {
      "image/png": "[encoded data removed]",
      "text/plain": [
       "<Figure size 432x288 with 1 Axes>"
      ]
     },
     "metadata": {
      "needs_background": "light"
     },
     "output_type": "display_data"
    }
   ],
   "source": []
  },
  {
   "cell_type": "code",
   "execution_count": null,
   "metadata": {},
   "outputs": [],
   "source": []
  },
  {
   "cell_type": "code",
   "execution_count": null,
   "metadata": {},
   "outputs": [],
   "source": []
  },
  {
   "cell_type": "code",
   "execution_count": null,
   "metadata": {},
   "outputs": [],
   "source": []
  },
  {
   "cell_type": "code",
   "execution_count": null,
   "metadata": {},
   "outputs": [],
   "source": []
  },
  {
   "cell_type": "code",
   "execution_count": null,
   "metadata": {},
   "outputs": [],
   "source": []
  },
  {
   "cell_type": "code",
   "execution_count": null,
   "metadata": {},
   "outputs": [],
   "source": []
  },
  {
   "cell_type": "code",
   "execution_count": null,
   "metadata": {},
   "outputs": [],
   "source": [
    "spherematch"
   ]
  },
  {
   "cell_type": "code",
   "execution_count": null,
   "metadata": {},
   "outputs": [],
   "source": []
  },
  {
   "cell_type": "code",
   "execution_count": 4,
   "metadata": {},
   "outputs": [],
   "source": [
    "spherematch?"
   ]
  },
  {
   "cell_type": "code",
   "execution_count": 9,
   "metadata": {
    "scrolled": false
   },
   "outputs": [
    {
     "name": "stdout",
     "output_type": "stream",
     "text": [
      "FIBERID\n",
      "THING_ID\n",
      "OBJID\n",
      "FIBERID_DUPLICATE\n",
      "ID_NUMBER\n",
      "UKIDSS_MATCHED\n",
      "2RXS_ID\n",
      "XMM_SRC_ID\n"
     ]
    }
   ],
   "source": [
    "for n in dr16.dtype.names:\n",
    "    if 'ID' in n:\n",
    "        print(n) "
   ]
  },
  {
   "cell_type": "code",
   "execution_count": 11,
   "metadata": {},
   "outputs": [
    {
     "name": "stdout",
     "output_type": "stream",
     "text": [
      "ID\n",
      "EBOSS_TARGET_ID\n",
      "THING_ID\n",
      "OBJID_TARGETING\n",
      "OBJID_DECALS\n",
      "LOCATIONID\n",
      "IDUPLICATE\n",
      "QSO_ID\n",
      "FIBERID\n",
      "OBJID\n",
      "ID_NUMBER\n"
     ]
    }
   ],
   "source": [
    "for n in fullngc.dtype.names:\n",
    "    if 'ID' in n:\n",
    "        print(n)"
   ]
  },
  {
   "cell_type": "code",
   "execution_count": 14,
   "metadata": {},
   "outputs": [
    {
     "data": {
      "text/plain": [
       "array(['', '1197132292200071475', '1237651065191268656', ...,\n",
       "       '1237674474365714731', '1237674474365714982',\n",
       "       '1237674474365780807'], dtype='<U19')"
      ]
     },
     "execution_count": 14,
     "metadata": {},
     "output_type": "execute_result"
    }
   ],
   "source": [
    "np.unique(fullngc['OBJID'])"
   ]
  },
  {
   "cell_type": "code",
   "execution_count": 18,
   "metadata": {},
   "outputs": [
    {
     "data": {
      "text/plain": [
       "89900005"
      ]
     },
     "execution_count": 18,
     "metadata": {},
     "output_type": "execute_result"
    }
   ],
   "source": [
    "fullngc['EBOSS_TARGET_ID'].min()"
   ]
  },
  {
   "cell_type": "code",
   "execution_count": 19,
   "metadata": {},
   "outputs": [],
   "source": [
    "def cut(fullngc):\n",
    "    m = fullngc['COMP_BOSS'] > 0.5\n",
    "    m &= fullngc['sector_SSR'] > 0.5\n",
    "    return fullngc[m]"
   ]
  },
  {
   "cell_type": "code",
   "execution_count": 20,
   "metadata": {},
   "outputs": [],
   "source": [
    "sample = cut(fullngc)"
   ]
  },
  {
   "cell_type": "code",
   "execution_count": 21,
   "metadata": {},
   "outputs": [
    {
     "data": {
      "text/plain": [
       "340027"
      ]
     },
     "execution_count": 21,
     "metadata": {},
     "output_type": "execute_result"
    }
   ],
   "source": [
    "sample.size"
   ]
  },
  {
   "cell_type": "code",
   "execution_count": 22,
   "metadata": {},
   "outputs": [
    {
     "data": {
      "text/plain": [
       "(array(['', '', '', ..., '', '', ''], dtype='<U19'),\n",
       " array(['1237666185111273711', '1237663234451309152',\n",
       "        '1237669517441827491', ..., '1237678598090457176',\n",
       "        '1237680247351279916', '1237663235523477803'], dtype='<U19'))"
      ]
     },
     "execution_count": 22,
     "metadata": {},
     "output_type": "execute_result"
    }
   ],
   "source": [
    "sample['OBJID'], dr16['OBJID']"
   ]
  },
  {
   "cell_type": "code",
   "execution_count": null,
   "metadata": {},
   "outputs": [],
   "source": []
  },
  {
   "cell_type": "code",
   "execution_count": null,
   "metadata": {},
   "outputs": [],
   "source": []
  },
  {
   "cell_type": "code",
   "execution_count": 17,
   "metadata": {},
   "outputs": [
    {
     "data": {
      "text/plain": [
       "252493675"
      ]
     },
     "execution_count": 17,
     "metadata": {},
     "output_type": "execute_result"
    }
   ],
   "source": [
    "fullngc['THING_ID'].min()"
   ]
  },
  {
   "cell_type": "code",
   "execution_count": null,
   "metadata": {},
   "outputs": [],
   "source": []
  },
  {
   "cell_type": "code",
   "execution_count": 5,
   "metadata": {},
   "outputs": [
    {
     "ename": "OSError",
     "evalue": "FITSIO status = 108: error reading from FITS file\nError reading data buffer from file:\n/B/Shared/mehdi/eboss/data/v7_2/DR16Q_v3.fits\n",
     "output_type": "error",
     "traceback": [
      "\u001b[0;31m---------------------------------------------------------------------------\u001b[0m",
      "\u001b[0;31mOSError\u001b[0m                                   Traceback (most recent call last)",
      "\u001b[0;32m<ipython-input-5-d9f625697536>\u001b[0m in \u001b[0;36m<module>\u001b[0;34m\u001b[0m\n\u001b[0;32m----> 1\u001b[0;31m \u001b[0mdr16\u001b[0m\u001b[0;34m[\u001b[0m\u001b[0;36m1\u001b[0m\u001b[0;34m]\u001b[0m\u001b[0;34m.\u001b[0m\u001b[0mread\u001b[0m\u001b[0;34m(\u001b[0m\u001b[0;34m)\u001b[0m\u001b[0;34m\u001b[0m\u001b[0;34m\u001b[0m\u001b[0m\n\u001b[0m",
      "\u001b[0;32m~/miniconda3/envs/py3p6/lib/python3.7/site-packages/fitsio/hdu/table.py\u001b[0m in \u001b[0;36mread\u001b[0;34m(self, **keys)\u001b[0m\n\u001b[1;32m    618\u001b[0m             \u001b[0mdata\u001b[0m \u001b[0;34m=\u001b[0m \u001b[0mself\u001b[0m\u001b[0;34m.\u001b[0m\u001b[0mread_rows\u001b[0m\u001b[0;34m(\u001b[0m\u001b[0mrows\u001b[0m\u001b[0;34m,\u001b[0m \u001b[0;34m**\u001b[0m\u001b[0mkeys\u001b[0m\u001b[0;34m)\u001b[0m\u001b[0;34m\u001b[0m\u001b[0;34m\u001b[0m\u001b[0m\n\u001b[1;32m    619\u001b[0m         \u001b[0;32melse\u001b[0m\u001b[0;34m:\u001b[0m\u001b[0;34m\u001b[0m\u001b[0;34m\u001b[0m\u001b[0m\n\u001b[0;32m--> 620\u001b[0;31m             \u001b[0mdata\u001b[0m \u001b[0;34m=\u001b[0m \u001b[0mself\u001b[0m\u001b[0;34m.\u001b[0m\u001b[0m_read_all\u001b[0m\u001b[0;34m(\u001b[0m\u001b[0;34m**\u001b[0m\u001b[0mkeys\u001b[0m\u001b[0;34m)\u001b[0m\u001b[0;34m\u001b[0m\u001b[0;34m\u001b[0m\u001b[0m\n\u001b[0m\u001b[1;32m    621\u001b[0m \u001b[0;34m\u001b[0m\u001b[0m\n\u001b[1;32m    622\u001b[0m         \u001b[0;32mreturn\u001b[0m \u001b[0mdata\u001b[0m\u001b[0;34m\u001b[0m\u001b[0;34m\u001b[0m\u001b[0m\n",
      "\u001b[0;32m~/miniconda3/envs/py3p6/lib/python3.7/site-packages/fitsio/hdu/table.py\u001b[0m in \u001b[0;36m_read_all\u001b[0;34m(self, **keys)\u001b[0m\n\u001b[1;32m    661\u001b[0m             \u001b[0marray\u001b[0m \u001b[0;34m=\u001b[0m \u001b[0mnumpy\u001b[0m\u001b[0;34m.\u001b[0m\u001b[0mzeros\u001b[0m\u001b[0;34m(\u001b[0m\u001b[0mnrows\u001b[0m\u001b[0;34m,\u001b[0m \u001b[0mdtype\u001b[0m\u001b[0;34m=\u001b[0m\u001b[0mdtype\u001b[0m\u001b[0;34m)\u001b[0m\u001b[0;34m\u001b[0m\u001b[0;34m\u001b[0m\u001b[0m\n\u001b[1;32m    662\u001b[0m \u001b[0;34m\u001b[0m\u001b[0m\n\u001b[0;32m--> 663\u001b[0;31m             \u001b[0mself\u001b[0m\u001b[0;34m.\u001b[0m\u001b[0m_FITS\u001b[0m\u001b[0;34m.\u001b[0m\u001b[0mread_as_rec\u001b[0m\u001b[0;34m(\u001b[0m\u001b[0mself\u001b[0m\u001b[0;34m.\u001b[0m\u001b[0m_ext\u001b[0m\u001b[0;34m+\u001b[0m\u001b[0;36m1\u001b[0m\u001b[0;34m,\u001b[0m \u001b[0;36m1\u001b[0m\u001b[0;34m,\u001b[0m \u001b[0mnrows\u001b[0m\u001b[0;34m,\u001b[0m \u001b[0marray\u001b[0m\u001b[0;34m)\u001b[0m\u001b[0;34m\u001b[0m\u001b[0;34m\u001b[0m\u001b[0m\n\u001b[0m\u001b[1;32m    664\u001b[0m \u001b[0;34m\u001b[0m\u001b[0m\n\u001b[1;32m    665\u001b[0m             \u001b[0marray\u001b[0m \u001b[0;34m=\u001b[0m \u001b[0mself\u001b[0m\u001b[0;34m.\u001b[0m\u001b[0m_maybe_decode_fits_ascii_strings_to_unicode_py3\u001b[0m\u001b[0;34m(\u001b[0m\u001b[0marray\u001b[0m\u001b[0;34m)\u001b[0m\u001b[0;34m\u001b[0m\u001b[0;34m\u001b[0m\u001b[0m\n",
      "\u001b[0;31mOSError\u001b[0m: FITSIO status = 108: error reading from FITS file\nError reading data buffer from file:\n/B/Shared/mehdi/eboss/data/v7_2/DR16Q_v3.fits\n"
     ]
    }
   ],
   "source": [
    "dr16[1].read()"
   ]
  },
  {
   "cell_type": "code",
   "execution_count": null,
   "metadata": {},
   "outputs": [],
   "source": []
  },
  {
   "cell_type": "code",
   "execution_count": 1,
   "metadata": {},
   "outputs": [],
   "source": [
    "%load_ext autoreload"
   ]
  },
  {
   "cell_type": "code",
   "execution_count": 2,
   "metadata": {},
   "outputs": [],
   "source": [
    "%autoreload 2"
   ]
  },
  {
   "cell_type": "code",
   "execution_count": 5,
   "metadata": {},
   "outputs": [
    {
     "name": "stderr",
     "output_type": "stream",
     "text": [
      "[ 000002.99 ]   0: 03-21 22:02  EbossCatalog    INFO     compmin : 0.5\n",
      "[ 000002.99 ]   0: 03-21 22:02  EbossCatalog    INFO     zmin:0.8, zmax:3.5\n",
      "[ 000003.04 ]   0: 03-21 22:02  EbossCatalog    INFO     151487 galaxies pass the cuts\n",
      "[ 000003.05 ]   0: 03-21 22:02  EbossCatalog    INFO     % of galaxies after cut 0.60\n",
      "[ 000005.05 ]   0: 03-21 22:02  EbossCatalog    INFO     compmin : 0.5\n",
      "[ 000005.05 ]   0: 03-21 22:02  EbossCatalog    INFO     zmin:0.8, zmax:3.5\n",
      "[ 000005.57 ]   0: 03-21 22:02  EbossCatalog    INFO     8658242 randoms pass the cuts\n",
      "[ 000005.58 ]   0: 03-21 22:02  EbossCatalog    INFO     % of randoms after cut 0.72\n",
      "[ 000008.22 ]   0: 03-21 22:02  numexpr.utils   INFO     Note: NumExpr detected 32 cores but \"NUMEXPR_MAX_THREADS\" not set, so enforcing safe limit of 8.\n",
      "[ 000008.22 ]   0: 03-21 22:02  numexpr.utils   INFO     NumExpr defaulting to 8 threads.\n"
     ]
    }
   ],
   "source": []
  },
  {
   "cell_type": "code",
   "execution_count": 6,
   "metadata": {},
   "outputs": [
    {
     "name": "stderr",
     "output_type": "stream",
     "text": [
      "[ 000013.72 ]   0: 03-21 22:02  SystematicsPrepare INFO     available columns : Index(['nran', 'sky_g', 'sky_r', 'sky_i', 'sky_z', 'airmass', 'ebv', 'depth_g',\n",
      "       'depth_r', 'depth_i', 'depth_z', 'psf_g', 'psf_r', 'psf_i', 'psf_z',\n",
      "       'w1_med', 'w1_covmed', 'w1_moon', 'star_density', 'loghi', 'run',\n",
      "       'depth_g_minus_ebv'],\n",
      "      dtype='object')\n"
     ]
    }
   ],
   "source": []
  },
  {
   "cell_type": "code",
   "execution_count": 7,
   "metadata": {},
   "outputs": [],
   "source": [
    "rm /B/Shared/mehdi/eboss/test/*"
   ]
  },
  {
   "cell_type": "code",
   "execution_count": 8,
   "metadata": {},
   "outputs": [
    {
     "name": "stderr",
     "output_type": "stream",
     "text": [
      "[ 000022.10 ]   0: 03-21 22:02  SystematicsPrepare INFO     split based on [0.8, 1.5]\n",
      "[ 000022.10 ]   0: 03-21 22:02  EbossCatalog    INFO     Grab a slice with [0.8, 1.5]\n",
      "[ 000022.10 ]   0: 03-21 22:02  EbossCatalog    INFO     # of data that pass this cut 60740\n",
      "[ 000022.72 ]   0: 03-21 22:02  EbossCatalog    INFO     Projecting to HEALPIX as galaxy with 512\n",
      "/home/mehdi/miniconda3/envs/py3p6/lib/python3.7/site-packages/healpy/pixelfunc.py:481: RuntimeWarning: invalid value encountered in _ang2pix_ring\n",
      "  return pixlib._ang2pix_ring(nside, theta, phi)\n",
      "[ 000022.83 ]   0: 03-21 22:02  EbossCatalog    INFO     Grab a slice with [0.8, 2.2]\n",
      "[ 000022.87 ]   0: 03-21 22:02  EbossCatalog    INFO     # of data that pass this cut 7169801\n",
      "[ 000023.85 ]   0: 03-21 22:02  EbossCatalog    INFO     Projecting to HEALPIX as random with 512\n",
      "[ 000025.95 ]   0: 03-21 22:02  SystematicsPrepare INFO     df shape : (155801, 23)\n",
      "[ 000025.95 ]   0: 03-21 22:02  SystematicsPrepare INFO     columns  : ['depth_g_minus_ebv', 'star_density', 'ebv', 'sky_g', 'sky_r', 'sky_i', 'sky_z', 'depth_g', 'depth_r', 'depth_i', 'depth_z', 'psf_g', 'psf_r', 'psf_i', 'psf_z', 'w1_med', 'w1_covmed', 'loghi', 'run', 'airmass']\n",
      "[ 000026.08 ]   0: 03-21 22:02  SystematicsPrepare INFO     wrote /B/Shared/mehdi/eboss/test/ngal_features_SGC_low_512.fits\n",
      "[ 000026.12 ]   0: 03-21 22:02  SystematicsPrepare INFO     wrote /B/Shared/mehdi/eboss/test/mask_SGC_low_512.hp.fits\n",
      "[ 000026.15 ]   0: 03-21 22:02  SystematicsPrepare INFO     wrote /B/Shared/mehdi/eboss/test/frac_SGC_low_512.hp.fits\n",
      "[ 000027.18 ]   0: 03-21 22:02  SystematicsPrepare INFO     wrote /B/Shared/mehdi/eboss/test/ngal_features_SGC_low_512.5r.npy\n",
      "[ 000027.18 ]   0: 03-21 22:02  SystematicsPrepare INFO     split based on [1.5, 2.2]\n",
      "[ 000027.18 ]   0: 03-21 22:02  EbossCatalog    INFO     Grab a slice with [1.5, 2.2]\n",
      "[ 000027.19 ]   0: 03-21 22:02  EbossCatalog    INFO     # of data that pass this cut 64759\n",
      "[ 000027.81 ]   0: 03-21 22:02  EbossCatalog    INFO     Projecting to HEALPIX as galaxy with 512\n",
      "[ 000027.86 ]   0: 03-21 22:02  EbossCatalog    INFO     Grab a slice with [0.8, 2.2]\n",
      "[ 000027.90 ]   0: 03-21 22:02  EbossCatalog    INFO     # of data that pass this cut 7169801\n",
      "[ 000028.53 ]   0: 03-21 22:02  EbossCatalog    INFO     Projecting to HEALPIX as random with 512\n",
      "[ 000030.44 ]   0: 03-21 22:02  SystematicsPrepare INFO     df shape : (155801, 23)\n",
      "[ 000030.44 ]   0: 03-21 22:02  SystematicsPrepare INFO     columns  : ['depth_g_minus_ebv', 'star_density', 'ebv', 'sky_g', 'sky_r', 'sky_i', 'sky_z', 'depth_g', 'depth_r', 'depth_i', 'depth_z', 'psf_g', 'psf_r', 'psf_i', 'psf_z', 'w1_med', 'w1_covmed', 'loghi', 'run', 'airmass']\n",
      "[ 000030.55 ]   0: 03-21 22:02  SystematicsPrepare INFO     wrote /B/Shared/mehdi/eboss/test/ngal_features_SGC_high_512.fits\n",
      "[ 000030.58 ]   0: 03-21 22:02  SystematicsPrepare INFO     wrote /B/Shared/mehdi/eboss/test/mask_SGC_high_512.hp.fits\n",
      "[ 000030.61 ]   0: 03-21 22:02  SystematicsPrepare INFO     wrote /B/Shared/mehdi/eboss/test/frac_SGC_high_512.hp.fits\n",
      "[ 000031.63 ]   0: 03-21 22:02  SystematicsPrepare INFO     wrote /B/Shared/mehdi/eboss/test/ngal_features_SGC_high_512.5r.npy\n",
      "[ 000031.63 ]   0: 03-21 22:02  SystematicsPrepare INFO     split based on [2.2, 3.5]\n",
      "[ 000031.63 ]   0: 03-21 22:02  EbossCatalog    INFO     Grab a slice with [2.2, 3.5]\n",
      "[ 000031.63 ]   0: 03-21 22:02  EbossCatalog    INFO     # of data that pass this cut 25988\n",
      "[ 000032.00 ]   0: 03-21 22:02  EbossCatalog    INFO     Projecting to HEALPIX as galaxy with 512\n",
      "[ 000032.03 ]   0: 03-21 22:02  EbossCatalog    INFO     Grab a slice with [2.2, 3.5]\n",
      "[ 000032.12 ]   0: 03-21 22:02  EbossCatalog    INFO     # of data that pass this cut 1488441\n",
      "[ 000032.72 ]   0: 03-21 22:02  EbossCatalog    INFO     Projecting to HEALPIX as random with 512\n",
      "[ 000034.30 ]   0: 03-21 22:02  SystematicsPrepare INFO     df shape : (154197, 23)\n",
      "[ 000034.30 ]   0: 03-21 22:02  SystematicsPrepare INFO     columns  : ['depth_g_minus_ebv', 'star_density', 'ebv', 'sky_g', 'sky_r', 'sky_i', 'sky_z', 'depth_g', 'depth_r', 'depth_i', 'depth_z', 'psf_g', 'psf_r', 'psf_i', 'psf_z', 'w1_med', 'w1_covmed', 'loghi', 'run', 'airmass']\n",
      "[ 000034.42 ]   0: 03-21 22:02  SystematicsPrepare INFO     wrote /B/Shared/mehdi/eboss/test/ngal_features_SGC_zhigh_512.fits\n",
      "[ 000034.44 ]   0: 03-21 22:02  SystematicsPrepare INFO     wrote /B/Shared/mehdi/eboss/test/mask_SGC_zhigh_512.hp.fits\n",
      "[ 000034.47 ]   0: 03-21 22:02  SystematicsPrepare INFO     wrote /B/Shared/mehdi/eboss/test/frac_SGC_zhigh_512.hp.fits\n",
      "[ 000035.48 ]   0: 03-21 22:03  SystematicsPrepare INFO     wrote /B/Shared/mehdi/eboss/test/ngal_features_SGC_zhigh_512.5r.npy\n"
     ]
    }
   ],
   "source": []
  },
  {
   "cell_type": "code",
   "execution_count": null,
   "metadata": {},
   "outputs": [],
   "source": []
  },
  {
   "cell_type": "code",
   "execution_count": null,
   "metadata": {},
   "outputs": [],
   "source": []
  },
  {
   "cell_type": "code",
   "execution_count": null,
   "metadata": {},
   "outputs": [],
   "source": []
  },
  {
   "cell_type": "code",
   "execution_count": null,
   "metadata": {},
   "outputs": [],
   "source": []
  },
  {
   "cell_type": "code",
   "execution_count": null,
   "metadata": {},
   "outputs": [],
   "source": []
  },
  {
   "cell_type": "code",
   "execution_count": null,
   "metadata": {},
   "outputs": [],
   "source": []
  },
  {
   "cell_type": "code",
   "execution_count": 18,
   "metadata": {},
   "outputs": [],
   "source": [
    "fracmin = 0.0\n",
    "fracmask = randoms.hpmap > fracmin\n",
    "\n",
    "nnbar = overdensity(data.hpmap, randoms.hpmap, fracmask) + 1"
   ]
  },
  {
   "cell_type": "code",
   "execution_count": 27,
   "metadata": {},
   "outputs": [],
   "source": [
    "dataframe['ngal'] = nnbar"
   ]
  },
  {
   "cell_type": "code",
   "execution_count": 25,
   "metadata": {},
   "outputs": [],
   "source": [
    "from LSSutils.stats.pcc import PCC, BTPCC"
   ]
  },
  {
   "cell_type": "code",
   "execution_count": 26,
   "metadata": {},
   "outputs": [
    {
     "name": "stdout",
     "output_type": "stream",
     "text": [
      "Help on function PCC in module LSSutils.stats.pcc:\n",
      "\n",
      "PCC(xc, yc, kind='spearman')\n",
      "\n"
     ]
    }
   ],
   "source": [
    "help(PCC)"
   ]
  },
  {
   "cell_type": "code",
   "execution_count": 37,
   "metadata": {},
   "outputs": [],
   "source": [
    "df = dataframe.dropna().to_numpy()"
   ]
  },
  {
   "cell_type": "code",
   "execution_count": 38,
   "metadata": {},
   "outputs": [],
   "source": [
    "dfcorr = PCC(df[:, :-1], df[:, -1])"
   ]
  },
  {
   "cell_type": "code",
   "execution_count": 39,
   "metadata": {},
   "outputs": [
    {
     "data": {
      "text/plain": [
       "[-0.002002414335091633,\n",
       " -0.002895251481864315,\n",
       " -0.005589415349807417,\n",
       " -0.006016946780097513,\n",
       " 0.0015849554539790654,\n",
       " -0.0017222473479968224,\n",
       " -0.0016588475637697633,\n",
       " -0.0012516341654975273,\n",
       " -0.004755755996959896,\n",
       " -0.003221748111257171,\n",
       " -0.0003692390018023999,\n",
       " 0.0007215015828936875,\n",
       " 0.0003518893940612726,\n",
       " -0.0018702942592474046,\n",
       " 0.0003776602223715997,\n",
       " 0.00022188537440931226,\n",
       " -0.0022316557548663165,\n",
       " -0.0003591689055091493,\n",
       " -0.00037452299649997386,\n",
       " 0.0017797057167188283]"
      ]
     },
     "execution_count": 39,
     "metadata": {},
     "output_type": "execute_result"
    }
   ],
   "source": [
    "dfcorr"
   ]
  },
  {
   "cell_type": "code",
   "execution_count": 41,
   "metadata": {},
   "outputs": [],
   "source": [
    "dfcorr_bs = BTPCC(df[:, :-1], df[:, -1])"
   ]
  },
  {
   "cell_type": "code",
   "execution_count": 45,
   "metadata": {},
   "outputs": [],
   "source": [
    "import matplotlib.pyplot as plt\n",
    "import numpy as np"
   ]
  },
  {
   "cell_type": "code",
   "execution_count": 49,
   "metadata": {},
   "outputs": [
    {
     "data": {
      "text/plain": [
       "Text(0.1, 0.9, '')"
      ]
     },
     "execution_count": 49,
     "metadata": {},
     "output_type": "execute_result"
    },
    {
     "data": {
      "image/png": "[encoded data removed]",
      "text/plain": [
       "<Figure size 432x288 with 1 Axes>"
      ]
     },
     "metadata": {
      "needs_background": "light"
     },
     "output_type": "display_data"
    }
   ],
   "source": [
    "title = ''\n",
    "fig, ax = plt.subplots()\n",
    "\n",
    "x = np.arange(len(dfcorr))\n",
    "prcntiles = np.percentile(dfcorr_bs, [0.5, 99.5], axis=0)\n",
    "\n",
    "#ax.bar(x, self.pcc, color='crimson', alpha=0.5)\n",
    "#ax.fill_between(x, y1=prcntiles[0], y2=prcntiles[1], alpha=0.2, color='b')\n",
    "ax.errorbar(x, np.zeros_like(x), \n",
    "        yerr=[-prcntiles[0], prcntiles[1]], \n",
    "        alpha=1., color='grey',\n",
    "        ls='None', capsize=5)\n",
    "\n",
    "ax.scatter(x, dfcorr, 80, color='red',\n",
    "       alpha=0.8, marker='o')\n",
    "\n",
    "ax.set_xticks(x)\n",
    "ax.grid(True, ls=':', color='grey')\n",
    "ax.set_xticklabels(dataframe.columns[:-1], rotation=90)\n",
    "ax.set(ylabel='PCC')\n",
    "ax.axhline(0, color='k')\n",
    "ax.text(0.1, 0.9, title, transform=ax.transAxes)\n",
    "\n"
   ]
  },
  {
   "cell_type": "code",
   "execution_count": null,
   "metadata": {},
   "outputs": [],
   "source": []
  },
  {
   "cell_type": "code",
   "execution_count": null,
   "metadata": {},
   "outputs": [],
   "source": []
  },
  {
   "cell_type": "code",
   "execution_count": 31,
   "metadata": {},
   "outputs": [
    {
     "name": "stdout",
     "output_type": "stream",
     "text": [
      "Help on method corr in module pandas.core.frame:\n",
      "\n",
      "corr(method='pearson', min_periods=1) method of pandas.core.frame.DataFrame instance\n",
      "    Compute pairwise correlation of columns, excluding NA/null values.\n",
      "    \n",
      "    Parameters\n",
      "    ----------\n",
      "    method : {'pearson', 'kendall', 'spearman'} or callable\n",
      "        * pearson : standard correlation coefficient\n",
      "        * kendall : Kendall Tau correlation coefficient\n",
      "        * spearman : Spearman rank correlation\n",
      "        * callable: callable with input two 1d ndarrays\n",
      "            and returning a float. Note that the returned matrix from corr\n",
      "            will have 1 along the diagonals and will be symmetric\n",
      "            regardless of the callable's behavior\n",
      "            .. versionadded:: 0.24.0\n",
      "    \n",
      "    min_periods : int, optional\n",
      "        Minimum number of observations required per pair of columns\n",
      "        to have a valid result. Currently only available for Pearson\n",
      "        and Spearman correlation.\n",
      "    \n",
      "    Returns\n",
      "    -------\n",
      "    DataFrame\n",
      "        Correlation matrix.\n",
      "    \n",
      "    See Also\n",
      "    --------\n",
      "    DataFrame.corrwith\n",
      "    Series.corr\n",
      "    \n",
      "    Examples\n",
      "    --------\n",
      "    >>> def histogram_intersection(a, b):\n",
      "    ...     v = np.minimum(a, b).sum().round(decimals=1)\n",
      "    ...     return v\n",
      "    >>> df = pd.DataFrame([(.2, .3), (.0, .6), (.6, .0), (.2, .1)],\n",
      "    ...                   columns=['dogs', 'cats'])\n",
      "    >>> df.corr(method=histogram_intersection)\n",
      "          dogs  cats\n",
      "    dogs   1.0   0.3\n",
      "    cats   0.3   1.0\n",
      "\n"
     ]
    }
   ],
   "source": [
    "help(df.corr)"
   ]
  },
  {
   "cell_type": "code",
   "execution_count": null,
   "metadata": {},
   "outputs": [],
   "source": []
  },
  {
   "cell_type": "code",
   "execution_count": null,
   "metadata": {},
   "outputs": [],
   "source": []
  },
  {
   "cell_type": "code",
   "execution_count": 12,
   "metadata": {},
   "outputs": [
    {
     "data": {
      "text/plain": [
       "array([[ 0.        ,         nan,         nan, ..., 20.80267964,\n",
       "                nan,         nan],\n",
       "       [ 0.        ,         nan,         nan, ..., 20.78757448,\n",
       "                nan,         nan],\n",
       "       [ 0.        ,         nan,         nan, ..., 20.77638564,\n",
       "                nan,         nan],\n",
       "       ...,\n",
       "       [ 0.        ,         nan,         nan, ..., 20.97504956,\n",
       "                nan,         nan],\n",
       "       [ 0.        ,         nan,         nan, ..., 20.95873424,\n",
       "                nan,         nan],\n",
       "       [ 0.        ,         nan,         nan, ..., 21.00141075,\n",
       "                nan,         nan]])"
      ]
     },
     "execution_count": 12,
     "metadata": {},
     "output_type": "execute_result"
    }
   ],
   "source": [
    "dataframe.to_numpy()"
   ]
  },
  {
   "cell_type": "code",
   "execution_count": null,
   "metadata": {},
   "outputs": [],
   "source": []
  },
  {
   "cell_type": "code",
   "execution_count": null,
   "metadata": {},
   "outputs": [],
   "source": []
  },
  {
   "cell_type": "code",
   "execution_count": null,
   "metadata": {},
   "outputs": [],
   "source": []
  },
  {
   "cell_type": "code",
   "execution_count": null,
   "metadata": {},
   "outputs": [],
   "source": []
  },
  {
   "cell_type": "code",
   "execution_count": null,
   "metadata": {},
   "outputs": [],
   "source": []
  },
  {
   "cell_type": "code",
   "execution_count": null,
   "metadata": {},
   "outputs": [],
   "source": []
  },
  {
   "cell_type": "code",
   "execution_count": null,
   "metadata": {},
   "outputs": [],
   "source": [
    "mv /home/mehdi/data/eboss/sysmaps/S"
   ]
  },
  {
   "cell_type": "code",
   "execution_count": null,
   "metadata": {},
   "outputs": [],
   "source": []
  },
  {
   "cell_type": "code",
   "execution_count": null,
   "metadata": {},
   "outputs": [],
   "source": []
  },
  {
   "cell_type": "code",
   "execution_count": null,
   "metadata": {},
   "outputs": [],
   "source": []
  },
  {
   "cell_type": "code",
   "execution_count": 4,
   "metadata": {},
   "outputs": [
    {
     "name": "stdout",
     "output_type": "stream",
     "text": [
      "Help on class EbossCatalog in module LSSutils.catalogs.combinefits:\n",
      "\n",
      "class EbossCatalog(builtins.object)\n",
      " |  EbossCatalog(filename, kind='galaxy', **kwargs)\n",
      " |  \n",
      " |  Methods defined here:\n",
      " |  \n",
      " |  __init__(self, filename, kind='galaxy', **kwargs)\n",
      " |      Initialize self.  See help(type(self)) for accurate signature.\n",
      " |  \n",
      " |  cutz(self, zlim)\n",
      " |  \n",
      " |  make_plots(self, zcuts, filename='wsystot_test.pdf', zlim=[0.8, 3.6], slices=['low', 'high', 'zhigh'])\n",
      " |  \n",
      " |  plot_nzratio(self, zlim=[0.8, 3.6])\n",
      " |  \n",
      " |  plot_wsys(self, zcuts, slices=['low', 'high', 'zhigh'])\n",
      " |  \n",
      " |  prepare_weight(self)\n",
      " |  \n",
      " |  select(self, compmin=0.5, zmin=0.8, zmax=2.2)\n",
      " |      `Full` to `Clustering` Catalog\n",
      " |  \n",
      " |  swap(self, zcuts, slices, colname='WEIGHT_SYSTOT', clip=False)\n",
      " |  \n",
      " |  to_fits(self, filename)\n",
      " |  \n",
      " |  tohp(self, nside)\n",
      " |  \n",
      " |  writehp(self, filename, overwrite=True)\n",
      " |  \n",
      " |  ----------------------------------------------------------------------\n",
      " |  Data descriptors defined here:\n",
      " |  \n",
      " |  __dict__\n",
      " |      dictionary for instance variables (if defined)\n",
      " |  \n",
      " |  __weakref__\n",
      " |      list of weak references to the object (if defined)\n",
      " |  \n",
      " |  ----------------------------------------------------------------------\n",
      " |  Data and other attributes defined here:\n",
      " |  \n",
      " |  logger = <Logger EbossCatalog (WARNING)>\n",
      "\n"
     ]
    }
   ],
   "source": [
    "help(lab.catalogs.combinefits.EbossCatalog)"
   ]
  },
  {
   "cell_type": "code",
   "execution_count": null,
   "metadata": {},
   "outputs": [],
   "source": []
  },
  {
   "cell_type": "code",
   "execution_count": null,
   "metadata": {},
   "outputs": [],
   "source": []
  },
  {
   "cell_type": "code",
   "execution_count": null,
   "metadata": {},
   "outputs": [],
   "source": [
    "#!/usr/bin/env python\n",
    "'''\n",
    "    Update\n",
    "    jan 03, switch back to v7_1\n",
    "    dec 14, switch to 512\n",
    "'''\n",
    "import numpy as np\n",
    "import pandas as pd\n",
    "import logging\n",
    "import os\n",
    "\n",
    "import sys\n",
    "sys.path.append('/home/mehdi/github/LSSutils')\n",
    "from LSSutils import setup_logging\n",
    "from LSSutils.catalogs.combinefits import EbossCatalog, hd5_2_fits\n",
    "#from LSSutils.catalogs.datarelease import cols_eboss_v6_qso_simp as my_cols\n",
    "from LSSutils.catalogs.datarelease import cols_eboss_mocks_qso as my_cols\n",
    "\n",
    "\n",
    "setup_logging(\"info\")\n",
    "\n",
    "\n",
    "from argparse import ArgumentParser\n",
    "ap = ArgumentParser(description='PREPARE EBOSS DATA FOR NN REGRESSION')\n",
    "ap.add_argument('--nside',  type=int, default=512)\n",
    "ap.add_argument('--cap',    type=str, default='NGC')\n",
    "ap.add_argument('--target', type=str, default='QSO')\n",
    "ap.add_argument('--slices', type=str, default=['low', 'high', 'all', 'zhigh', 'z1','z2', 'z3'], nargs='*')\n",
    "\n",
    "ns = ap.parse_args()    \n",
    "\n",
    "## --- input parameters\n",
    "nside  = ns.nside\n",
    "cap    = ns.cap\n",
    "target = ns.target\n",
    "slices = ns.slices\n",
    "\n",
    "## --- z-cuts --- \n",
    "#zcuts     = {'0.8': [0.80, 1.14],\n",
    "#             '1.1': [1.14, 1.39],\n",
    "#             '1.4': [1.39, 1.63],\n",
    "#             '1.6': [1.63, 1.88],\n",
    "#             '1.9': [1.88, 2.20]}\n",
    "\n",
    "#zcuts = {'all':[0.80, 2.20]}\n",
    "\n",
    "#zcuts = {'low':[0.80, 1.50],\n",
    "#        'high':[1.50, 2.20]}\n",
    "\n",
    "zcuts = {'low':[0.8, 1.5],\n",
    "         'high':[1.5, 2.2],\n",
    "         'all':[0.8, 2.2],\n",
    "         'zhigh':[2.2, 3.5],\n",
    "         'z1':[0.8, 1.3],\n",
    "         'z2':[1.3, 1.6],\n",
    "         'z3':[1.6, 2.2]}\n",
    "\n",
    "\n",
    "output_dir    = '/home/mehdi/data/eboss/v7_2/0.1'    \n",
    "data_name_in = f'/home/mehdi/data/eboss/v7_2/eBOSS_{target}_full_{cap}_v7_2.dat.fits'\n",
    "rand_name_in = f'/home/mehdi/data/eboss/v7_2/eBOSS_{target}_full_{cap}_v7_2.ran.fits'\n",
    "\n",
    "#--- logger\n",
    "# logging.basicConfig(\n",
    "#     #filename=output_dir + '/test.log',\n",
    "#     level=logging.INFO,\n",
    "#     format=\"%(asctime)s:%(levelname)s:%(message)s\"\n",
    "#     )\n",
    "logger = logging.getLogger(\"Logger 1\")\n",
    "\n",
    "# --- check if the output directory exists\n",
    "if not os.path.isdir(output_dir):\n",
    "    logger.info('create {}'.format(output_dir))\n",
    "    os.makedirs(output_dir)\n",
    "logger.info('results will be written under {}'.format(output_dir))    \n",
    "\n",
    "# --- input files\n",
    "logger.info('prepare the files for NN regression ')\n",
    "logger.info('read {}'.format(data_name_in))\n",
    "logger.info('read {}'.format(rand_name_in))\n",
    "\n",
    "# --- imaging templates\n",
    "systematics_dir  = '/home/mehdi/data/eboss/sysmaps'\n",
    "systematics_name = systematics_dir + '/SDSS_WISE_HI_imageprop_nside512.h5'\n",
    "dataframe = pd.read_hdf(systematics_name, key='templates')\n",
    "logger.info('read {}'.format(systematics_name))\n",
    "\n",
    "for i, key_i in enumerate(slices):\n",
    "    \n",
    "    if key_i not in slices:\n",
    "         raise RuntimeError(f'{key_i} not in {slices}')\n",
    "\n",
    "    logger.info('split based on {}'.format(zcuts[key_i]))\n",
    "\n",
    "    #--- read galaxy and random \n",
    "    if key_i=='zhigh':\n",
    "        zmin = 2.2\n",
    "        zmax = 3.5\n",
    "    else:\n",
    "        zmin=0.8\n",
    "        zmax=2.2\n",
    "\n",
    "    mock   = EbossCatalog(data_name_in, 'galaxy', zmin=zmin, zmax=zmax)\n",
    "    random = EbossCatalog(rand_name_in, 'random', zmin=zmin, zmax=zmax)    \n",
    "\n",
    "\n",
    "    # --- prepare the names for the output files\n",
    "    hpcat     = output_dir + f'/galmap_{cap}_{key_i}_{nside}.hp.fits'\n",
    "    hpmask    = output_dir + f'/mask_{cap}_{key_i}_{nside}.hp.fits'\n",
    "    fracgood  = output_dir + f'/frac_{cap}_{key_i}_{nside}.hp.fits'\n",
    "    fitname   = output_dir + f'/ngal_features_{cap}_{key_i}_{nside}.fits'    \n",
    "    fitkfold  = output_dir + f'/ngal_features_{cap}_{key_i}_{nside}.5r.npy'\n",
    "\n",
    "    mock.cutz(zcuts[key_i])\n",
    "    mock.tohp(nside)\n",
    "    mock.writehp(hpcat)    \n",
    "    \n",
    "    ##random.apply_zcut(zcuts[key_i]) ## -- we don't cut randoms\n",
    "    ##random.cutz([0.8, 2.2])\n",
    "    random.tohp(nside)\n",
    "    \n",
    "    # --- append the galaxy and random density\n",
    "    dataframe_i = dataframe.copy()\n",
    "    dataframe_i['ngal'] = mock.hpmap\n",
    "    dataframe_i['nran'] = random.hpmap    \n",
    "    dataframe_i['nran'][random.hpmap == 0] = np.nan\n",
    "    \n",
    "    dataframe_i.dropna(inplace=True)\n",
    "    logger.info('df shape : {}'.format(dataframe_i.shape))\n",
    "    logger.info('columns  : {}'.format(my_cols))\n",
    "    \n",
    "    # --- write \n",
    "    hd5_2_fits(dataframe_i, \n",
    "                  my_cols, \n",
    "                  fitname, \n",
    "                  hpmask, \n",
    "                  fracgood, \n",
    "                  fitkfold,\n",
    "                  res=nside, \n",
    "                  k=5)"
   ]
  }
 ],
 "metadata": {
  "kernelspec": {
   "display_name": "python (py3p6)",
   "language": "python",
   "name": "py3p6"
  },
  "language_info": {
   "codemirror_mode": {
    "name": "ipython",
    "version": 3
   },
   "file_extension": ".py",
   "mimetype": "text/x-python",
   "name": "python",
   "nbconvert_exporter": "python",
   "pygments_lexer": "ipython3",
   "version": "3.7.4"
  }
 },
 "nbformat": 4,
 "nbformat_minor": 2
}
