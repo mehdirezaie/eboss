{
 "cells": [
  {
   "cell_type": "code",
   "execution_count": 1,
   "metadata": {},
   "outputs": [
    {
     "name": "stdout",
     "output_type": "stream",
     "text": [
      "camb is not installed!\n"
     ]
    }
   ],
   "source": [
    "%matplotlib inline\n",
    "import matplotlib.pyplot as plt\n",
    "import fitsio as ft\n",
    "import pandas as pd\n",
    "import numpy as np\n",
    "import healpy as hp\n",
    "from scipy.optimize import curve_fit\n",
    "import sys\n",
    "sys.path.append('/home/mehdi/github/LSSutils')\n",
    "from LSSutils import utils\n",
    "from LSSutils.stats import nnbar\n",
    "from astropy.table import Table\n",
    "from scipy.interpolate import InterpolatedUnivariateSpline as IUS\n",
    "\n",
    "def lin(x, *theta):\n",
    "    return theta[0] + np.matmul(x, np.array(theta[1:]))"
   ]
  },
  {
   "cell_type": "code",
   "execution_count": 2,
   "metadata": {},
   "outputs": [],
   "source": [
    "def flux_to_mag(flux, band, ebv=None):\n",
    "    ''' Converts SDSS fluxes to magnitudes, correcting for extinction optionally (EBV)'''\n",
    "    #index_b = dict(zip(['u', 'g', 'r', 'i', 'z'], np.arange(5)))\n",
    "    #index_e = dict(zip(['u', 'g', 'r', 'i', 'z'], [4.239,3.303,2.285,1.698,1.263]))    \n",
    "    #-- coefs to convert from flux to magnitudes\n",
    "    b   = np.array([1.4, 0.9, 1.2, 1.8, 7.4])[band]*1.e-10\n",
    "    mag = -2.5/np.log(10.)*(np.arcsinh((flux/1.e9)/(2*b)) + np.log(b))\n",
    "    if ebv is not None:\n",
    "        #-- extinction coefficients for SDSS u, g, r, i, and z bands\n",
    "        ext_coeff = np.array([4.239, 3.303, 2.285, 1.698, 1.263])[band]\n",
    "        mag -= ext_coeff*ebv\n",
    "    return mag"
   ]
  },
  {
   "cell_type": "code",
   "execution_count": 3,
   "metadata": {},
   "outputs": [
    {
     "name": "stdout",
     "output_type": "stream",
     "text": [
      "Index(['sky_g', 'sky_r', 'sky_i', 'sky_z', 'airmass', 'ebv', 'depth_g',\n",
      "       'depth_r', 'depth_i', 'depth_z', 'psf_g', 'psf_r', 'psf_i', 'psf_z',\n",
      "       'run', 'loghi', 'nstar', 'depth_g_ebv'],\n",
      "      dtype='object') (786432, 18)\n"
     ]
    },
    {
     "name": "stderr",
     "output_type": "stream",
     "text": [
      "/home/mehdi/miniconda3/envs/py3p6/lib/python3.7/site-packages/pandas/core/series.py:853: RuntimeWarning: invalid value encountered in arcsinh\n",
      "  result = getattr(ufunc, method)(*inputs, **kwargs)\n"
     ]
    }
   ],
   "source": [
    "dt = pd.read_hdf('/home/mehdi/data/eboss/sysmaps/SDSS_HI_imageprop_nside256.h5')\n",
    "dt['depth_g_ebv'] = flux_to_mag(dt['depth_g'], 1, dt['ebv']) # ugriz\n",
    "print(dt.columns, dt.shape)"
   ]
  },
  {
   "cell_type": "code",
   "execution_count": 4,
   "metadata": {},
   "outputs": [],
   "source": [
    "sample      = 'QSO'\n",
    "hemi         = 'NGC'\n",
    "version     = '7_1'\n",
    "branch      = '0.1'\n",
    "path        ='/home/mehdi/data/eboss/v' + version + '/'\n",
    "patho       = path + branch  + '/'\n",
    "data_name   = path + 'eBOSS_'+sample+'_full_'+hemi+'_v'+version+'.dat.fits'\n",
    "outdata_name = patho + 'eBOSS_'+sample+'_full_'+hemi+'_v'+version+'.dat.fits'\n",
    "random_name = path + 'eBOSS_'+sample+'_full_'+hemi+'_v'+version+'.ran.fits'\n",
    "zmin        = 0.8\n",
    "zmax        = 2.2\n",
    "compmin     = 0.5\n",
    "nside       = 256"
   ]
  },
  {
   "cell_type": "code",
   "execution_count": 5,
   "metadata": {},
   "outputs": [],
   "source": [
    "dat  = ft.read(data_name)\n",
    "ran  = ft.read(random_name)"
   ]
  },
  {
   "cell_type": "code",
   "execution_count": 6,
   "metadata": {},
   "outputs": [
    {
     "name": "stderr",
     "output_type": "stream",
     "text": [
      "/home/mehdi/miniconda3/envs/py3p6/lib/python3.7/site-packages/numpy/core/fromnumeric.py:56: FutureWarning: Series.nonzero() is deprecated and will be removed in a future version.Use Series.to_numpy().nonzero() instead\n",
      "  return getattr(obj, method)(*args, **kwds)\n"
     ]
    },
    {
     "name": "stdout",
     "output_type": "stream",
     "text": [
      "before 1\n",
      "avg [0.07932747] <class 'numpy.ndarray'>\n",
      "after 0\n",
      "before 1\n",
      "avg [23.01913409] <class 'numpy.ndarray'>\n",
      "after 0\n",
      "401745 17233374\n",
      "0.5431355710712019 0.643884650794441\n",
      "401745\n"
     ]
    }
   ],
   "source": [
    "dat_hpix = utils.radec2hpix(nside, dat['RA'], dat['DEC'])\n",
    "\n",
    "# EBV\n",
    "dat_hpix_nanebv = dat_hpix[np.argwhere(dt.ebv[dat_hpix].isna()).flatten()]\n",
    "print('before', len(dat_hpix_nanebv))\n",
    "if len(dat_hpix_nanebv) != 0:    \n",
    "    avg = np.nanmean(dt.ebv.values[hp.get_all_neighbours(nside, dat_hpix_nanebv)],\n",
    "                         axis=0)\n",
    "    print('avg', avg, type(avg))\n",
    "    dt.ebv[dat_hpix_nanebv] = avg\n",
    "    dat_logebv = np.log10(dt.ebv[dat_hpix])\n",
    "    dat_logebv = dat_logebv.values\n",
    "    print('after', np.isnan(dat_logebv).sum())\n",
    "\n",
    "# depth_g_minus_ebv\n",
    "dat_hpix_depthg = dat_hpix[np.argwhere(dt.depth_g_ebv[dat_hpix].isna()).flatten()]\n",
    "print('before', len(dat_hpix_depthg))\n",
    "if len(dat_hpix_depthg) != 0:\n",
    "    avg = np.nanmean(dt.depth_g_ebv.values[hp.get_all_neighbours(nside, dat_hpix_depthg)],\n",
    "                         axis=0)\n",
    "    print('avg', avg, type(avg))\n",
    "    dt.depth_g_ebv[dat_hpix_depthg] = avg\n",
    "    dat_depth = dt.depth_g_ebv[dat_hpix]\n",
    "    dat_depth = dat_depth.values\n",
    "    print('after', np.isnan(dat_depth).sum())\n",
    "    #if np.isnan(dat_depth).sum() != 0:\n",
    "        \n",
    "        \n",
    "\n",
    "    \n",
    "# # i-mag (ugriz)\n",
    "dat_imag     = dat['MODELMAG'][:, 3] - 1.698 * dt.ebv[dat_hpix].values\n",
    "\n",
    "\n",
    "# np.random.seed(123456) # subsample randoms\n",
    "wd = ((dat['IMATCH']==1)|(dat['IMATCH']==2))&\\\n",
    "     (dat['Z']>=zmin)&\\\n",
    "     (dat['Z']<=zmax)&\\\n",
    "     (dat['COMP_BOSS']>compmin)&\\\n",
    "     (dat['sector_SSR']>compmin) \n",
    "\n",
    "wr = (ran['Z']>=zmin)&\\\n",
    "     (ran['Z']<=zmax)&\\\n",
    "     (ran['COMP_BOSS']>compmin)&\\\n",
    "     (ran['sector_SSR']>compmin)\n",
    "     #(np.random.rand(len(ran))<random_fraction)\n",
    "    \n",
    "print(dat.size, ran.size)    \n",
    "print(np.mean(wd), np.mean(wr))\n",
    "\n",
    "\n",
    "#imag_prcn = np.percentile(imag[wd], [25, 50, 75])\n",
    "imag_prcn = np.percentile(dat_imag[wd], [0, 25, 50, 75, 100])\n",
    "samples = {'0':(dat_imag < imag_prcn[1]), #& (imag >= imag_prcn[0]),\n",
    "           '1':(dat_imag < imag_prcn[2]) & (dat_imag >= imag_prcn[1]),\n",
    "           '2':(dat_imag < imag_prcn[3]) & (dat_imag >= imag_prcn[2]),\n",
    "           '3':(dat_imag >= imag_prcn[3])} # (imag <= imag_prcn[4])& \n",
    "\n",
    "n = 0\n",
    "for si in samples:\n",
    "    n += samples[si].sum()\n",
    "print(n)"
   ]
  },
  {
   "cell_type": "code",
   "execution_count": 7,
   "metadata": {},
   "outputs": [
    {
     "name": "stdout",
     "output_type": "stream",
     "text": [
      "0\n",
      "1\n",
      "2\n",
      "# NaNs (before) : 1\n",
      "# NaNs (after)  : 0\n",
      "3\n"
     ]
    }
   ],
   "source": [
    "nside  = 256\n",
    "wran   = ran['COMP_BOSS']*ran['WEIGHT_FKP']\n",
    "nran = utils.hpixsum(nside, ran['RA'][wr],  ran['DEC'][wr], value=wran[wr])\n",
    "mask = nran > 0\n",
    "\n",
    "x        = np.column_stack([np.log10(dt.ebv), dt.depth_g_ebv])\n",
    "MRSYSTOT = dat['WEIGHT_SYSTOT'].copy()\n",
    "\n",
    "params = {}\n",
    "for sid in samples.keys(): # 0,1, 2, 3\n",
    "    print(sid)\n",
    "    msk    = wd & samples[sid]\n",
    "    wgal   = dat['WEIGHT_CP']*dat['WEIGHT_FKP']*dat['WEIGHT_NOZ']\n",
    "    ngal   = utils.hpixsum(nside, dat['RA'][msk], dat['DEC'][msk], value=wgal[msk])\n",
    "    y      = utils.makedelta(ngal, nran, mask) + 1\n",
    "    \n",
    "    xy     = np.column_stack([x, y])\n",
    "    nonans = np.argwhere(np.isnan(xy).sum(axis=1)==0).flatten()\n",
    "    xys    = xy[nonans, :]\n",
    "    \n",
    "    popt, pcov = curve_fit(lin, xys[:, :-1], xys[:,-1], \n",
    "                       p0=[1, 0., 0],\n",
    "                       method='lm')\n",
    "    params[sid] = (popt, pcov)\n",
    "    \n",
    "    wmap = np.nan*np.zeros(12*nside*nside)\n",
    "    wmap[nonans] = lin(xys[:, :-1], *popt)\n",
    "    \n",
    "    Mapper = utils.SYSWEIGHT(wmap, hpfile=True)\n",
    "    MRSYSTOT[msk] = Mapper(dat[msk]['RA'], dat[msk]['DEC'])"
   ]
  },
  {
   "cell_type": "code",
   "execution_count": 8,
   "metadata": {},
   "outputs": [
    {
     "data": {
      "text/plain": [
       "{'0': (array([ 0.35297348, -0.03058262,  0.02582187]),\n",
       "  array([[ 6.70427293e-01, -7.85566293e-03, -2.94756504e-02],\n",
       "         [-7.85566293e-03,  6.13452835e-04,  3.83980916e-04],\n",
       "         [-2.94756504e-02,  3.83980916e-04,  1.29882129e-03]])),\n",
       " '1': (array([ 0.7081841 , -0.08485694,  0.00640925]),\n",
       "  array([[ 5.96229386e-01, -6.98625622e-03, -2.62135049e-02],\n",
       "         [-6.98625622e-03,  5.45560429e-04,  3.41484751e-04],\n",
       "         [-2.62135049e-02,  3.41484751e-04,  1.15507743e-03]])),\n",
       " '2': (array([-3.26622186, -0.09520582,  0.17699654]),\n",
       "  array([[ 5.78322653e-01, -6.77643630e-03, -2.54262267e-02],\n",
       "         [-6.77643630e-03,  5.29175454e-04,  3.31228853e-04],\n",
       "         [-2.54262267e-02,  3.31228853e-04,  1.12038663e-03]])),\n",
       " '3': (array([-10.41018565,  -0.12081996,   0.48291124]),\n",
       "  array([[ 5.58911866e-01, -6.54899242e-03, -2.45728224e-02],\n",
       "         [-6.54899242e-03,  5.11414261e-04,  3.20111509e-04],\n",
       "         [-2.45728224e-02,  3.20111509e-04,  1.08278204e-03]]))}"
      ]
     },
     "execution_count": 8,
     "metadata": {},
     "output_type": "execute_result"
    }
   ],
   "source": [
    "params"
   ]
  },
  {
   "cell_type": "code",
   "execution_count": 9,
   "metadata": {},
   "outputs": [],
   "source": [
    "np.save('/home/mehdi/data/eboss/v7_1/lin_imag_params.npy', params)"
   ]
  },
  {
   "cell_type": "code",
   "execution_count": 10,
   "metadata": {},
   "outputs": [
    {
     "data": {
      "text/plain": [
       "(array([1.        , 1.        , 1.        , ..., 1.        , 1.01327403,\n",
       "        0.99473256]),\n",
       " array([1.        , 1.        , 1.        , ..., 1.        , 1.01059861,\n",
       "        0.98477597]))"
      ]
     },
     "execution_count": 10,
     "metadata": {},
     "output_type": "execute_result"
    }
   ],
   "source": [
    "MRSYSTOT, dat['WEIGHT_SYSTOT']"
   ]
  },
  {
   "cell_type": "code",
   "execution_count": 11,
   "metadata": {},
   "outputs": [
    {
     "name": "stdout",
     "output_type": "stream",
     "text": [
      "0\n",
      "1\n",
      "2\n",
      "3\n"
     ]
    }
   ],
   "source": [
    "psf_g   = dt['depth_g_ebv'].values\n",
    "results = {'Default':{}, 'MR':{}}\n",
    "for sid in samples.keys(): # 0,1, 2, 3\n",
    "    print(sid)\n",
    "    msk    = wd & samples[sid]\n",
    "    \n",
    "    # default\n",
    "    wgal   = dat['WEIGHT_CP']*dat['WEIGHT_FKP']*dat['WEIGHT_NOZ']*dat['WEIGHT_SYSTOT']\n",
    "    ngal   = utils.hpixsum(nside, dat['RA'][msk], dat['DEC'][msk], value=wgal[msk])\n",
    "    \n",
    "    nnbar_i = nnbar.NNBAR(ngal, nran, mask, psf_g, nbins=8)\n",
    "    nnbar_i.run(njack=10)\n",
    "    results['Default'][sid] = (nnbar_i.output['bin_edges'][:-1], nnbar_i.output['nnbar'])\n",
    "    \n",
    "\n",
    "    # MR\n",
    "    wgal   = dat['WEIGHT_CP']*dat['WEIGHT_FKP']*dat['WEIGHT_NOZ']*MRSYSTOT\n",
    "    ngal   = utils.hpixsum(nside, dat['RA'][msk], dat['DEC'][msk], value=wgal[msk])\n",
    "    \n",
    "    nnbar_i = nnbar.NNBAR(ngal, nran, mask, psf_g, nbins=8)\n",
    "    nnbar_i.run(njack=10)\n",
    "    results['MR'][sid] = (nnbar_i.output['bin_edges'][:-1], nnbar_i.output['nnbar'])    "
   ]
  },
  {
   "cell_type": "code",
   "execution_count": 12,
   "metadata": {},
   "outputs": [
    {
     "data": {
      "image/png": "[encoded data removed]",
      "text/plain": [
       "<Figure size 432x288 with 1 Axes>"
      ]
     },
     "metadata": {
      "needs_background": "light"
     },
     "output_type": "display_data"
    }
   ],
   "source": [
    "lbs   = {'0':'imag<%.1f'%imag_prcn[1],\n",
    "         '1':'%.1f<=imag<%.1f'%(imag_prcn[1],imag_prcn[2]),\n",
    "         '2':'%.1f<=imag<%.1f'%(imag_prcn[2], imag_prcn[3]),\n",
    "         '3':'imag>=%.1f'%imag_prcn[3]}\n",
    "colors = [plt.cm.jet(i/4) for i in range(4)]\n",
    "for sid in samples.keys(): # 0,1, 2, 3\n",
    "    i = int(sid)\n",
    "    plt.plot(*results['MR'][sid], color=colors[i], label=lbs[sid])\n",
    "    plt.plot(*results['Default'][sid], ls='--', color=colors[i])\n",
    "plt.xlabel('DEPTH_G_EBV')\n",
    "plt.legend()\n",
    "plt.ylabel('N/Nbar')\n",
    "plt.grid()"
   ]
  },
  {
   "cell_type": "code",
   "execution_count": 13,
   "metadata": {},
   "outputs": [],
   "source": [
    "ibin_mid  = 0.5*(imag_prcn[1:]+imag_prcn[:-1])\n",
    "ibin_err  = np.diff(imag_prcn)/2."
   ]
  },
  {
   "cell_type": "code",
   "execution_count": 14,
   "metadata": {},
   "outputs": [
    {
     "name": "stdout",
     "output_type": "stream",
     "text": [
      "0\n",
      "1\n",
      "2\n",
      "3\n"
     ]
    }
   ],
   "source": [
    "x  = []\n",
    "xe = []\n",
    "y  = []\n",
    "ye = []\n",
    "for i in params:\n",
    "    print(i)\n",
    "    popt, pcov = params[i]\n",
    "    x.append(ibin_mid)\n",
    "    xe.append(ibin_err)\n",
    "    y.append(popt)\n",
    "    ye.append(np.sqrt(np.diag(pcov)))\n",
    "x  = np.array(x)\n",
    "xe = np.array(xe)\n",
    "y  = np.array(y).T\n",
    "ye = np.array(ye).T"
   ]
  },
  {
   "cell_type": "code",
   "execution_count": 15,
   "metadata": {},
   "outputs": [
    {
     "data": {
      "image/png": "[encoded data removed]",
      "text/plain": [
       "<Figure size 576x1296 with 3 Axes>"
      ]
     },
     "metadata": {
      "needs_background": "light"
     },
     "output_type": "display_data"
    }
   ],
   "source": [
    "fig, ax = plt.subplots(nrows=3, figsize=(8, 18), sharex=True)\n",
    "fig.subplots_adjust(hspace=0)\n",
    "xr = np.linspace(17.5, 22.5)\n",
    "ylabels = ['b', 'm_ebv', 'm_depthg']\n",
    "splines = []\n",
    "for i in range(3):\n",
    "    #w = 1./np.power(xe[i]*xe[i] + 100*ye[i]*ye[i], 0.5)\n",
    "    spl = IUS(x[i], y[i], k=1)\n",
    "    splines.append(spl)\n",
    "    ax[i].errorbar(x[i], y[i], yerr=ye[i], \n",
    "                   xerr=xe[i], marker='o', ls='None', c='k')\n",
    "    ax[i].plot(xr, spl(xr), 'r-')\n",
    "    ax[i].set(ylabel=ylabels[i])\n",
    "    if i==2:ax[i].set(xlabel='i-band mag')"
   ]
  },
  {
   "cell_type": "code",
   "execution_count": 16,
   "metadata": {},
   "outputs": [],
   "source": [
    "all_params = []\n",
    "for spline_i in splines:\n",
    "    all_params.append(spline_i(dat_imag))\n",
    "all_params = np.array(all_params)"
   ]
  },
  {
   "cell_type": "code",
   "execution_count": 17,
   "metadata": {},
   "outputs": [],
   "source": [
    "np.save('/home/mehdi/data/eboss/v7_1/lin_imag_params_dat.npy', all_params)"
   ]
  },
  {
   "cell_type": "code",
   "execution_count": 18,
   "metadata": {},
   "outputs": [],
   "source": [
    "num_data = dat_logebv.size"
   ]
  },
  {
   "cell_type": "code",
   "execution_count": 19,
   "metadata": {
    "scrolled": false
   },
   "outputs": [
    {
     "name": "stdout",
     "output_type": "stream",
     "text": [
      "0\n",
      "80349\n",
      "160698\n",
      "241047\n",
      "321396\n"
     ]
    }
   ],
   "source": [
    "model = []\n",
    "for i in range(dat_logebv.size):\n",
    "    if i % (num_data//5)==0:print(i)\n",
    "    model.append(all_params[0, i] + all_params[1, i]*dat_logebv[i] + all_params[2, i]*dat_depth[i])"
   ]
  },
  {
   "cell_type": "code",
   "execution_count": 20,
   "metadata": {},
   "outputs": [],
   "source": [
    "weights = 1./np.array(model)"
   ]
  },
  {
   "cell_type": "code",
   "execution_count": 21,
   "metadata": {},
   "outputs": [],
   "source": [
    "dat['WEIGHT_SYSTOT'] = weights"
   ]
  },
  {
   "cell_type": "code",
   "execution_count": 22,
   "metadata": {},
   "outputs": [
    {
     "data": {
      "text/plain": [
       "'/home/mehdi/data/eboss/v7_1/0.1/eBOSS_QSO_full_NGC_v7_1.dat.fits'"
      ]
     },
     "execution_count": 22,
     "metadata": {},
     "output_type": "execute_result"
    }
   ],
   "source": [
    "outdata_name"
   ]
  },
  {
   "cell_type": "code",
   "execution_count": 23,
   "metadata": {},
   "outputs": [
    {
     "data": {
      "text/plain": [
       "array([0.65366748, 0.96916402, 1.02059652, 2.48859468])"
      ]
     },
     "execution_count": 23,
     "metadata": {},
     "output_type": "execute_result"
    }
   ],
   "source": [
    "np.percentile(weights, [0, 20, 80, 100])"
   ]
  },
  {
   "cell_type": "code",
   "execution_count": 24,
   "metadata": {},
   "outputs": [],
   "source": [
    "import os"
   ]
  },
  {
   "cell_type": "code",
   "execution_count": 25,
   "metadata": {},
   "outputs": [],
   "source": [
    "outdata_path = '/'.join(outdata_name.split('/')[:-1])\n",
    "if not os.path.isdir(outdata_path):\n",
    "    print('create ', outdata_path)\n",
    "    os.makedirs(outdata_path)"
   ]
  },
  {
   "cell_type": "code",
   "execution_count": 26,
   "metadata": {},
   "outputs": [],
   "source": [
    "ft.write(outdata_name, dat, overwrite=True)"
   ]
  },
  {
   "cell_type": "code",
   "execution_count": 27,
   "metadata": {},
   "outputs": [
    {
     "name": "stdout",
     "output_type": "stream",
     "text": [
      "\u001b[0m\u001b[01;34m0.1\u001b[0m/                                    eBOSS_QSO_full_SGC_v7_1.dat.fits\r\n",
      "eBOSS_QSO_clustering_NGC_v7_1.dat.fits  eBOSS_QSO_full_SGC_v7_1.ran.fits\r\n",
      "eBOSS_QSO_clustering_NGC_v7_1.ran.fits  lin_imag_params_dat.npy\r\n",
      "eBOSS_QSO_full_NGC_v7_1.dat.fits        lin_imag_params.npy\r\n",
      "eBOSS_QSO_full_NGC_v7_1.ran.fits        \u001b[01;34mresults_NGC\u001b[0m/\r\n"
     ]
    }
   ],
   "source": [
    "ls /home/mehdi/data/eboss/v7_1/"
   ]
  },
  {
   "cell_type": "code",
   "execution_count": 28,
   "metadata": {},
   "outputs": [],
   "source": [
    "def mkcluscat(sampl,NS,ver,zmin,zmax,compmin=.5,md='dat',zfw=False,allnoz=False, diro=None):\n",
    "    infile = diro+'eBOSS_'+sampl+'_full_'+NS+'_v'+ver+'.'+md+'.fits'\n",
    "    if zmin == 2.2:\n",
    "        sampl += 'hiz'\n",
    "    wnoz = ''\n",
    "    if allnoz:\n",
    "        wnoz += 'allnoz_'   \n",
    "        \n",
    "    outfile = diro+'eBOSS_'+sampl+'_clustering_'+wnoz+NS+'_v'+ver+'.'+md+'.fits'\n",
    "    print(infile)\n",
    "    cat = Table.read(infile)\n",
    "    if md == 'dat':\n",
    "        w = ((cat['Z'] > zmin) & (cat['Z'] < zmax) & (cat['COMP_BOSS'] > compmin) & (cat['sector_SSR'] > compmin) & ((cat['IMATCH'] == 1) | (cat['IMATCH'] == 2)))\n",
    "    if md == 'ran':\n",
    "        #w = ((cat['Z'] > zmin) & (cat['Z'] < zmax) & (cat['COMP_BOSS'] > compmin))\n",
    "        w = ((cat['COMP_BOSS'] > compmin) & (cat['sector_SSR'] > compmin))\n",
    "    print(len(cat),len(cat[w]))\n",
    "    ral = cat[w]['RA']\n",
    "    decl = cat[w]['DEC']\n",
    "    zl = cat[w]['Z']\n",
    "    wfkp = cat[w]['WEIGHT_FKP']\n",
    "    nz = cat[w]['NZ']\n",
    "    im = cat[w]['IMATCH']\n",
    "    if sampl == 'QSO' or sampl == 'QSOhiz':\n",
    "        id = cat[w]['QSO_ID']\n",
    "        idn = 'QSO_ID'\n",
    "    if sampl == 'LRG':\n",
    "        id = cat[w]['LRG_ID']\n",
    "        idn = 'LRG_ID'\n",
    "       \n",
    "    #wz = (cat['sector_SSR'] == 0)\n",
    "    #cat[wz]['sector_SSR'] = 1.\n",
    "   \n",
    "    #   if md == 'dat':\n",
    "    ws = cat[w]['WEIGHT_SYSTOT']\n",
    "    wcp = cat[w]['WEIGHT_CP']\n",
    "    #       if zfm == 'SSR':\n",
    "    #           wnz = 1./cat[w]['sector_SSR']\n",
    "    #       if zfm == 'fibID':\n",
    "    #           wnzf = doweights(cat)\n",
    "    #           wnz = wnzf[w]\n",
    "    #       \n",
    "    #       \n",
    "    #if type(zfw) != bool:\n",
    "    #   wnz = zfw[w]\n",
    "    #else:\n",
    "    #   wnz = 1./cat[w]['sector_SSR']\n",
    "    print(outfile)\n",
    "    if allnoz:\n",
    "        zweights = Table.read(diro+'eBOSS_'+sampl+'_nozweights_'+NS+'_v'+ver+'.'+md+'.fits')\n",
    "        to = Table([ral,decl,zl,wfkp,ws,wcp,zweights[w]['WEIGHT_NOZ'],zweights[w]['WEIGHT_NOZ_ID'],zweights[w]['WEIGHT_NOZ_SSR'],nz,id],names=('RA','DEC','Z','WEIGHT_FKP','WEIGHT_SYSTOT','WEIGHT_CP','WEIGHT_NOZ','WEIGHT_NOZ_ID','WEIGHT_NOZ_SSR','NZ',idn)) \n",
    "        to.write(outfile, format='fits', overwrite=True)\n",
    "    else:       \n",
    "        wnz = cat[w]['WEIGHT_NOZ']\n",
    "        wz = (wnz*0 != 0)\n",
    "        #print(len(wnz[wz]))\n",
    "        wnz[wz] = 1. #set any NaNs to 1.\n",
    "        wl = (im == 2)\n",
    "        wnz[wl] = 1. #legacy objects don't get a fiber weight correction\n",
    "        #   if md == 'ran':\n",
    "        #       ws = cat[w]['COMP_BOSS']\n",
    "        #       wcp = np.ones((len(cat[w])))\n",
    "        #       wnz = np.ones((len(cat[w])))   \n",
    "        to = Table([ral,decl,zl,wfkp,ws,wcp,wnz,nz,id],names=('RA','DEC','Z','WEIGHT_FKP','WEIGHT_SYSTOT','WEIGHT_CP','WEIGHT_NOZ','NZ',idn)) \n",
    "        to.write(outfile, format='fits', overwrite=True)\n",
    "    return True\n",
    "    \n",
    "    \n",
    "def mkcluscat_ran(sampl,NS,ver,zmin,zmax,compmin=.5,frac = .1,dirin='',fidver='',allnoz=False, diro=None):\n",
    "    # this all ensures match between data and random redshifts/weights\n",
    "    # randoms have additional component to\n",
    "    from random import random\n",
    "    samplc = sampl\n",
    "    if zmin == 2.2:\n",
    "        samplc += 'hiz'\n",
    "    if dirin == '':\n",
    "        dirin = diro\n",
    "    if fidver == '':\n",
    "        fidver = ver   \n",
    "    wnoz = ''\n",
    "    if allnoz:\n",
    "        wnoz += 'allnoz_'   \n",
    "    \n",
    "    datfile = diro+'eBOSS_'+samplc+'_clustering_'+wnoz+NS+'_v'+ver+'.dat.fits'\n",
    "    print(datfile)\n",
    "    dat = ft.read(datfile)\n",
    "    dz = dat['Z']\n",
    "    dw = dat['WEIGHT_SYSTOT']\n",
    "    dcp = dat['WEIGHT_CP']\n",
    "    dzf = dat['WEIGHT_NOZ']\n",
    "    if allnoz:\n",
    "        dzif = dat['WEIGHT_NOZ_ID']\n",
    "        dzsf = dat['WEIGHT_NOZ_SSR']\n",
    "    dfkp = dat['WEIGHT_FKP']\n",
    "    dnz = dat['NZ']\n",
    "    #infile = dirin+'eBOSS_'+sampl+'_full_'+NS+'_v'+fidver+'.ran.fits'\n",
    "    infile = diro+'eBOSS_'+sampl+'_full_'+NS+'_v'+fidver+'.ran.fits'\n",
    "    outfile = diro+'eBOSS_'+samplc+'_clustering_'+wnoz+NS+'_v'+ver+'.ran.fits'\n",
    "    print(infile, outfile)\n",
    "    cat = ft.read(infile)\n",
    "    w = ((cat['COMP_BOSS'] > compmin) & (cat['sector_SSR'] > compmin) & (cat['Z'] > zmin) & (cat['Z'] < zmax))\n",
    "    print(len(cat),len(cat[w]))\n",
    "    ralf = cat[w]['RA']\n",
    "    declf = cat[w]['DEC']\n",
    "    wslf = cat[w]['COMP_BOSS']\n",
    "    ral  = []\n",
    "    decl = []\n",
    "    zl = []\n",
    "    wsl = []\n",
    "    cpl = []\n",
    "    zfl = []\n",
    "    if allnoz:\n",
    "        zfil = []\n",
    "        zfsl = []\n",
    "    nzl = []\n",
    "    fkpl = []\n",
    "    ndat = len(dz)\n",
    "    for i in range(0,len(ralf)):\n",
    "        ran = random()\n",
    "        if ran < frac:\n",
    "            ral.append(ralf[i])\n",
    "            decl.append(declf[i])\n",
    "            sb = wslf[i]\n",
    "            zind = int(ndat*random())\n",
    "            zl.append(dz[zind])\n",
    "            wsl.append(sb*dw[zind])\n",
    "            cpl.append(dcp[zind])\n",
    "            zfl.append(dzf[zind])\n",
    "            nzl.append(dnz[zind])\n",
    "            fkpl.append(dfkp[zind])\n",
    "            if allnoz:\n",
    "                zfil.append(dzif[zind])\n",
    "                zfsl.append(dzsf[zind]) \n",
    "    print(len(ral))\n",
    "    ral  = np.array(ral)\n",
    "    decl = np.array(decl)\n",
    "    zl = np.array(zl)\n",
    "    wsl = np.array(wsl)\n",
    "    cpl = np.array(cpl)\n",
    "    zfl = np.array(zfl)\n",
    "    nzl = np.array(nzl)\n",
    "    fkpl = np.array(fkpl)\n",
    "    if allnoz:\n",
    "        zfil = np.array(zfil)\n",
    "        zfsl = np.array(zfsl)\n",
    "        to = Table([ral,decl,zl,fkpl,wsl,cpl,zfl,zfil,zfsl,nzl],names=('RA','DEC','Z','WEIGHT_FKP','WEIGHT_SYSTOT','WEIGHT_CP','WEIGHT_NOZ','WEIGHT_NOZ_ID','WEIGHT_NOZ_SSR','NZ'))   \n",
    "        to.write(outfile, format='fits', overwrite=True)\n",
    "    else:               \n",
    "        to = Table([ral,decl,zl,fkpl,wsl,cpl,zfl,nzl],names=('RA','DEC','Z','WEIGHT_FKP','WEIGHT_SYSTOT','WEIGHT_CP','WEIGHT_NOZ','NZ'))   \n",
    "        to.write(outfile, format='fits', overwrite=True)\n",
    "    return True"
   ]
  },
  {
   "cell_type": "code",
   "execution_count": 29,
   "metadata": {},
   "outputs": [
    {
     "name": "stdout",
     "output_type": "stream",
     "text": [
      "/home/mehdi/data/eboss/v7_1/0.1/eBOSS_QSO_full_NGC_v7_1.dat.fits\n"
     ]
    },
    {
     "name": "stderr",
     "output_type": "stream",
     "text": [
      "WARNING: hdu= was not specified but multiple tables are present, reading in first available table (hdu=1) [astropy.io.fits.connect]\n"
     ]
    },
    {
     "name": "stdout",
     "output_type": "stream",
     "text": [
      "401745 218202\n",
      "/home/mehdi/data/eboss/v7_1/0.1/eBOSS_QSO_clustering_NGC_v7_1.dat.fits\n",
      "/home/mehdi/data/eboss/v7_1/0.1/eBOSS_QSO_clustering_NGC_v7_1.dat.fits\n",
      "/home/mehdi/data/eboss/v7_1/0.1/eBOSS_QSO_full_NGC_v7_1.ran.fits /home/mehdi/data/eboss/v7_1/0.1/eBOSS_QSO_clustering_NGC_v7_1.ran.fits\n",
      "17233374 11096305\n",
      "5544949\n"
     ]
    },
    {
     "data": {
      "text/plain": [
       "True"
      ]
     },
     "execution_count": 29,
     "metadata": {},
     "output_type": "execute_result"
    }
   ],
   "source": [
    "mkcluscat('QSO', hemi,version,zmin,zmax,compmin,md='dat', diro=patho)\n",
    "frac = 0.5 #degree of sub-sampling on randoms\n",
    "mkcluscat_ran('QSO',hemi,version,zmin,zmax,compmin,frac=frac, diro=patho)\n",
    "#mkcluscat('QSO',hemi,ver,zmax,hizmax,compmin,md='dat')\n",
    "#frac = 0.5 #degree of sub-sampling on randoms\n",
    "#mkcluscat_ran('QSO',hemi,ver,zmax,hizmax,compmin,frac=frac)\n",
    "\n",
    "\n",
    "#calczfweights_all('QSO',hemi,ver,zmin,zmax,compmin)\n",
    "#mkcluscat('QSO',hemi,ver,zmin,zmax,compmin,md='dat',allnoz=True)\n",
    "#frac = 0.5 #degree of sub-sampling on randoms\n",
    "#mkcluscat_ran('QSO',hemi,ver,zmin,zmax,compmin,frac=frac,allnoz=True)"
   ]
  },
  {
   "cell_type": "code",
   "execution_count": 30,
   "metadata": {},
   "outputs": [
    {
     "data": {
      "text/plain": [
       "'/home/mehdi/data/eboss/v7_1/'"
      ]
     },
     "execution_count": 30,
     "metadata": {},
     "output_type": "execute_result"
    }
   ],
   "source": [
    "path"
   ]
  },
  {
   "cell_type": "code",
   "execution_count": 31,
   "metadata": {},
   "outputs": [
    {
     "name": "stdout",
     "output_type": "stream",
     "text": [
      "/home/mehdi/data/eboss/v7_1/eBOSS_QSO_full_NGC_v7_1.dat.fits\n",
      "401745 218202\n",
      "/home/mehdi/data/eboss/v7_1/eBOSS_QSO_clustering_NGC_v7_1.dat.fits\n",
      "/home/mehdi/data/eboss/v7_1/eBOSS_QSO_clustering_NGC_v7_1.dat.fits\n",
      "/home/mehdi/data/eboss/v7_1/eBOSS_QSO_full_NGC_v7_1.ran.fits /home/mehdi/data/eboss/v7_1/eBOSS_QSO_clustering_NGC_v7_1.ran.fits\n",
      "17233374 11096305\n",
      "5547590\n"
     ]
    },
    {
     "data": {
      "text/plain": [
       "True"
      ]
     },
     "execution_count": 31,
     "metadata": {},
     "output_type": "execute_result"
    }
   ],
   "source": [
    "mkcluscat('QSO', hemi,version,zmin,zmax,compmin,md='dat', diro=path)\n",
    "frac = 0.5 #degree of sub-sampling on randoms\n",
    "mkcluscat_ran('QSO',hemi,version,zmin,zmax,compmin,frac=frac, diro=path)\n",
    "#mkcluscat('QSO',hemi,ver,zmax,hizmax,compmin,md='dat')\n",
    "#frac = 0.5 #degree of sub-sampling on randoms\n",
    "#mkcluscat_ran('QSO',hemi,ver,zmax,hizmax,compmin,frac=frac)\n",
    "\n",
    "\n",
    "#calczfweights_all('QSO',hemi,ver,zmin,zmax,compmin)\n",
    "#mkcluscat('QSO',hemi,ver,zmin,zmax,compmin,md='dat',allnoz=True)\n",
    "#frac = 0.5 #degree of sub-sampling on randoms\n",
    "#mkcluscat_ran('QSO',hemi,ver,zmin,zmax,compmin,frac=frac,allnoz=True)"
   ]
  },
  {
   "cell_type": "code",
   "execution_count": null,
   "metadata": {},
   "outputs": [],
   "source": []
  }
 ],
 "metadata": {
  "kernelspec": {
   "display_name": "python (py3p6)",
   "language": "python",
   "name": "py3p6"
  },
  "language_info": {
   "codemirror_mode": {
    "name": "ipython",
    "version": 3
   },
   "file_extension": ".py",
   "mimetype": "text/x-python",
   "name": "python",
   "nbconvert_exporter": "python",
   "pygments_lexer": "ipython3",
   "version": "3.7.4"
  }
 },
 "nbformat": 4,
 "nbformat_minor": 2
}
