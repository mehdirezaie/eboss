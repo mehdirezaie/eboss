{
 "cells": [
  {
   "cell_type": "markdown",
   "metadata": {},
   "source": [
    "# eBOSS ELG with DECaLS DR5"
   ]
  },
  {
   "cell_type": "markdown",
   "metadata": {},
   "source": [
    "## 1."
   ]
  },
  {
   "cell_type": "code",
   "execution_count": 1,
   "metadata": {},
   "outputs": [],
   "source": [
    "import matplotlib.pyplot as plt"
   ]
  },
  {
   "cell_type": "code",
   "execution_count": 2,
   "metadata": {},
   "outputs": [],
   "source": [
    "import sys\n",
    "sys.path.append('/global/homes/m/mehdi/github/DESILSS')\n",
    "from counter import paircount"
   ]
  },
  {
   "cell_type": "code",
   "execution_count": 3,
   "metadata": {},
   "outputs": [],
   "source": [
    "import healpy as hp"
   ]
  },
  {
   "cell_type": "code",
   "execution_count": 4,
   "metadata": {},
   "outputs": [],
   "source": [
    "import numpy as np"
   ]
  },
  {
   "cell_type": "code",
   "execution_count": 5,
   "metadata": {},
   "outputs": [],
   "source": [
    "def XI(theta, phi, delta1, delta2, weight, bins):\n",
    "    bins_rad = np.deg2rad(bins)\n",
    "    w = paircount(theta, phi, delta1, delta2, weight, bins_rad)\n",
    "    binc = 0.5*(bins[1:]+bins[:-1])\n",
    "    return [binc, w[0], w[1], w[2], w[3], w[4], w[5]]"
   ]
  },
  {
   "cell_type": "code",
   "execution_count": 6,
   "metadata": {},
   "outputs": [],
   "source": [
    "from time import time"
   ]
  },
  {
   "cell_type": "code",
   "execution_count": 22,
   "metadata": {},
   "outputs": [],
   "source": [
    "class XI_JACK(object):\n",
    "    def __init__(self, elgmap, ranmap, select_fun, mask, njack=20):\n",
    "        self.nside = hp.get_nside(elgmap)\n",
    "        delta = np.zeros(elgmap.size)\n",
    "        randc = ranmap * select_fun\n",
    "        sf    = (elgmap[mask].sum() / randc[mask].sum())\n",
    "        delta[mask] = elgmap[mask] / randc[mask] / sf - 1\n",
    "        w = ranmap[mask]\n",
    "        theta, phi = hp.pix2ang(self.nside, np.argwhere(mask).flatten())\n",
    "        thetal, phil, wl, deltal,_ = split_jackknife(theta, phi, w, delta[mask], delta[mask], njack=njack)\n",
    "        self.theta  = thetal\n",
    "        self.phi    = phil\n",
    "        self.weight = wl\n",
    "        self.delta  = deltal\n",
    "    def run(self):\n",
    "        bw = 3.*hp.nside2resol(self.nside)*180./3.1416  # 3x resol.\n",
    "        bins = np.arange(bw, 10, bw)\n",
    "        njack = len(self.theta)\n",
    "        print('njack ', njack)\n",
    "        self.result = dict()\n",
    "        for m in range(njack):\n",
    "            t  = self.theta[m].copy()\n",
    "            p  = self.phi[m].copy()\n",
    "            w  = self.weight[m].copy()\n",
    "            d  = self.delta[m].copy()\n",
    "            t1 = time()\n",
    "            self.result[m] = XI(t, p, d, d, w, bins)\n",
    "            print('sample{} done in {} s'.format(m, time()-t1))\n",
    "        #\n",
    "        #\n",
    "        nbins = len(bins)-1\n",
    "        xijackl = []\n",
    "        for i in range(njack): # jackknife\n",
    "            wa = np.zeros(nbins)\n",
    "            wb = np.zeros(nbins)\n",
    "            wa1 = np.zeros(nbins)\n",
    "            wb1 = np.zeros(nbins)\n",
    "            wa2 = np.zeros(nbins)\n",
    "            wb2 = np.zeros(nbins)            \n",
    "            for j in range(njack): \n",
    "                if j!=i:\n",
    "                    wa += self.result[j][1]\n",
    "                    wb += self.result[j][2]\n",
    "                    wa1 += self.result[j][3]\n",
    "                    wb1 += self.result[j][4]\n",
    "                    wa2 += self.result[j][5]\n",
    "                    wb2 += self.result[j][6]                    \n",
    "            xijackl.append(wa/wb - (wa1/wb1)*(wa2/wb2))\n",
    "\n",
    "        wa = np.zeros(nbins)\n",
    "        wb = np.zeros(nbins)\n",
    "        wa1 = np.zeros(nbins)\n",
    "        wb1 = np.zeros(nbins)\n",
    "        wa2 = np.zeros(nbins)\n",
    "        wb2 = np.zeros(nbins)            \n",
    "        for j in range(njack): \n",
    "            wa += self.result[j][1]\n",
    "            wb += self.result[j][2]\n",
    "            wa1 += self.result[j][3]\n",
    "            wb1 += self.result[j][4]\n",
    "            wa2 += self.result[j][5]\n",
    "            wb2 += self.result[j][6]                    \n",
    "        xiall  = wa/wb - (wa1/wb1)*(wa2/wb2)\n",
    "        var = np.zeros(nbins)\n",
    "        for i in range(njack):\n",
    "            var += (xiall - xijackl[i])**2\n",
    "        var *= (njack-1)/njack\n",
    "        self.output = dict(alls=self.result, t=0.5*(bins[:-1]+bins[1:]),\n",
    "                           njack=njack, w=xiall, werr=np.sqrt(var), \n",
    "                           wjacks=xijackl, nside=self.nside)\n",
    "        \n",
    "        \n",
    "class XI_JACK_cross(object):\n",
    "    def __init__(self, elgmap, ranmap, select_fun, sysm, mask, njack=20):\n",
    "        self.nside = hp.get_nside(elgmap)\n",
    "        delta = np.zeros(elgmap.size)\n",
    "        randc = ranmap * select_fun\n",
    "        sf    = (elgmap[mask].sum() / randc[mask].sum())\n",
    "        delta[mask] = elgmap[mask] / randc[mask] / sf - 1\n",
    "        #\n",
    "        #\n",
    "        delta2 = np.zeros(elgmap.size)\n",
    "        sf2  = (sysm[mask]*ranmap[mask]).sum() / ranmap[mask].sum()\n",
    "        delta2[mask] = sysm[mask] / (sf2 * ranmap[mask]) - 1.0\n",
    "        #\n",
    "        #\n",
    "        w = ranmap[mask]\n",
    "        theta, phi = hp.pix2ang(self.nside, np.argwhere(mask).flatten())\n",
    "        thetal, phil, wl, deltal, delta2l = split_jackknife(theta, phi, w, delta[mask], delta2[mask], njack=njack)\n",
    "        self.theta  = thetal\n",
    "        self.phi    = phil\n",
    "        self.weight = wl\n",
    "        self.delta  = deltal\n",
    "        self.delta2 = delta2l\n",
    "        \n",
    "    def run(self):\n",
    "        bw = 3.*hp.nside2resol(self.nside)*180./3.1416  # 3x resol.\n",
    "        bins = np.arange(bw, 10, bw)\n",
    "        njack = len(self.theta)\n",
    "        self.result = dict()\n",
    "        for m in range(njack):\n",
    "            t  = self.theta[m].copy()\n",
    "            p  = self.phi[m].copy()\n",
    "            w  = self.weight[m].copy()\n",
    "            d  = self.delta[m].copy()\n",
    "            d2 = self.delta2[m].copy()\n",
    "            t1 = time()\n",
    "            self.result[m] = XI(t, p, d, d2, w, bins)\n",
    "            print('sample{} done in {} s'.format(m, time()-t1))\n",
    "        #\n",
    "        nbins = len(bins)-1\n",
    "        xijackl = []\n",
    "        for i in range(njack): # jackknife\n",
    "            wa = np.zeros(nbins)\n",
    "            wb = np.zeros(nbins)\n",
    "            wa1 = np.zeros(nbins)\n",
    "            wb1 = np.zeros(nbins)\n",
    "            wa2 = np.zeros(nbins)\n",
    "            wb2 = np.zeros(nbins)            \n",
    "            for j in range(njack): \n",
    "                if j!=i:\n",
    "                    wa += self.result[j][1]\n",
    "                    wb += self.result[j][2]\n",
    "                    wa1 += self.result[j][3]\n",
    "                    wb1 += self.result[j][4]\n",
    "                    wa2 += self.result[j][5]\n",
    "                    wb2 += self.result[j][6]                    \n",
    "            xijackl.append(wa/wb - (wa1/wb1)*(wa2/wb2))\n",
    "\n",
    "        wa = np.zeros(nbins)\n",
    "        wb = np.zeros(nbins)\n",
    "        wa1 = np.zeros(nbins)\n",
    "        wb1 = np.zeros(nbins)\n",
    "        wa2 = np.zeros(nbins)\n",
    "        wb2 = np.zeros(nbins)            \n",
    "        for j in range(njack): \n",
    "            wa += self.result[j][1]\n",
    "            wb += self.result[j][2]\n",
    "            wa1 += self.result[j][3]\n",
    "            wb1 += self.result[j][4]\n",
    "            wa2 += self.result[j][5]\n",
    "            wb2 += self.result[j][6]                    \n",
    "        xiall  = wa/wb - (wa1/wb1)*(wa2/wb2)\n",
    "        var = np.zeros(nbins)\n",
    "        for i in range(njack):\n",
    "            var += (xiall - xijackl[i])**2\n",
    "        var *= (njack-1)/njack\n",
    "        self.output = dict(alls=self.result, t=0.5*(bins[:-1]+bins[1:]),\n",
    "                           njack=njack, w=xiall, werr=np.sqrt(var), \n",
    "                           wjacks=xijackl, nside=self.nside)\n"
   ]
  },
  {
   "cell_type": "code",
   "execution_count": 8,
   "metadata": {},
   "outputs": [],
   "source": [
    "from xi import split_jackknife"
   ]
  },
  {
   "cell_type": "code",
   "execution_count": 9,
   "metadata": {},
   "outputs": [
    {
     "name": "stdout",
     "output_type": "stream",
     "text": [
      "NSIDE = 256\n",
      "ORDERING = RING in fits file\n",
      "INDXSCHM = IMPLICIT\n",
      "NSIDE = 256\n",
      "ORDERING = RING in fits file\n",
      "INDXSCHM = IMPLICIT\n",
      "NSIDE = 256\n",
      "ORDERING = RING in fits file\n",
      "INDXSCHM = IMPLICIT\n"
     ]
    }
   ],
   "source": [
    "# read elgmap and ranmap\n",
    "elgmap = hp.read_map('/global/cscratch1/sd/mehdi/dr5_anand/eboss/eBOSS.ELGhpmap.fits')\n",
    "ranmap = hp.read_map('/global/cscratch1/sd/mehdi/dr5_anand/eboss/eBOSS.ELGRANhpmap.fits')\n",
    "select_fun = hp.read_map('/global/cscratch1/sd/mehdi/dr5_anand/march22/nn-weights-hpmap256.fits')"
   ]
  },
  {
   "cell_type": "code",
   "execution_count": 10,
   "metadata": {},
   "outputs": [],
   "source": [
    "mask = ranmap > 0.2"
   ]
  },
  {
   "cell_type": "code",
   "execution_count": 12,
   "metadata": {},
   "outputs": [
    {
     "name": "stdout",
     "output_type": "stream",
     "text": [
      "njack  20\n",
      "sample0 done in 1.0787346363067627 s\n",
      "sample1 done in 0.9296562671661377 s\n",
      "sample2 done in 0.9396138191223145 s\n",
      "sample3 done in 0.8787496089935303 s\n",
      "sample4 done in 0.8625388145446777 s\n",
      "sample5 done in 0.8675663471221924 s\n",
      "sample6 done in 0.8669331073760986 s\n",
      "sample7 done in 0.8789505958557129 s\n",
      "sample8 done in 0.8060140609741211 s\n",
      "sample9 done in 0.8266425132751465 s\n",
      "sample10 done in 0.8203856945037842 s\n",
      "sample11 done in 0.7798025608062744 s\n",
      "sample12 done in 0.762861967086792 s\n",
      "sample13 done in 0.746408224105835 s\n",
      "sample14 done in 0.75179123878479 s\n",
      "sample15 done in 0.758725643157959 s\n",
      "sample16 done in 0.8099517822265625 s\n",
      "sample17 done in 0.8465931415557861 s\n",
      "sample18 done in 0.9191372394561768 s\n",
      "sample19 done in 1.1037266254425049 s\n"
     ]
    }
   ],
   "source": [
    "xijack = XI_JACK(elgmap, ranmap, select_fun, mask)\n",
    "xijack.run()"
   ]
  },
  {
   "cell_type": "code",
   "execution_count": 51,
   "metadata": {},
   "outputs": [
    {
     "data": {
      "text/plain": [
       "-0.00083927769011645371"
      ]
     },
     "execution_count": 51,
     "metadata": {},
     "output_type": "execute_result"
    }
   ],
   "source": [
    "d = np.concatenate(xijack.delta)\n",
    "w = np.concatenate(xijack.weight)\n",
    "np.sum(d * w)/np.sum(w)"
   ]
  },
  {
   "cell_type": "code",
   "execution_count": 13,
   "metadata": {
    "scrolled": false
   },
   "outputs": [
    {
     "data": {
      "text/plain": [
       "dict_keys(['alls', 't', 'njack', 'w', 'werr', 'wjacks', 'nside'])"
      ]
     },
     "execution_count": 13,
     "metadata": {},
     "output_type": "execute_result"
    }
   ],
   "source": [
    "xijack.output.keys()"
   ]
  },
  {
   "cell_type": "code",
   "execution_count": 14,
   "metadata": {},
   "outputs": [],
   "source": [
    "#np.save('/global/cscratch1/sd/mehdi/dr5_anand/march22/xi-dr5-jack256-nn', xijack.output)\n",
    "np.save('/global/cscratch1/sd/mehdi/dr5_anand/march22/xi-dr5-jack256-nn-sub', xijack.output)"
   ]
  },
  {
   "cell_type": "code",
   "execution_count": 43,
   "metadata": {},
   "outputs": [],
   "source": [
    "nn  = np.load('/global/cscratch1/sd/mehdi/dr5_anand/march22/xi-dr5-jack256-nn.npy').item()\n",
    "nns = np.load('/global/cscratch1/sd/mehdi/dr5_anand/march22/xi-dr5-jack256-nn-sub.npy').item()"
   ]
  },
  {
   "cell_type": "code",
   "execution_count": 44,
   "metadata": {},
   "outputs": [
    {
     "data": {
      "text/plain": [
       "Text(0.5,0,'$\\\\theta[deg]$')"
      ]
     },
     "execution_count": 44,
     "metadata": {},
     "output_type": "execute_result"
    },
    {
     "data": {
      "image/png": "[encoded data removed]",
      "text/plain": [
       "<matplotlib.figure.Figure at 0x2ab695781080>"
      ]
     },
     "metadata": {},
     "output_type": "display_data"
    }
   ],
   "source": [
    "plt.figure(figsize=(12,8))\n",
    "plt.rc('font', size=20, family='serif')\n",
    "plt.rc('axes.spines', right=False, top=False)\n",
    "# for i in range(20):\n",
    "#     b = nn['t']\n",
    "#     plt.plot(nn['t'], b*nn['wjacks'][i], 'g', alpha=0.2)\n",
    "#     plt.plot(lin['t'], b*lin['wjacks'][i], 'r', alpha=0.2)\n",
    "#     plt.plot(uni['t'], b*uni['wjacks'][i], 'b', alpha=0.2)\n",
    "\n",
    "# \n",
    "pl = ['uni','lin']\n",
    "c  = ['green', 'lime', 'green', 'lightblue', 'violet', 'lightgreen']\n",
    "l  = ['NN weight', 'mean sub.', None, None, None]\n",
    "for i,s in enumerate([nn, nns]):\n",
    "    b = s['t']\n",
    "    plt.errorbar(b, s['w'], \n",
    "             yerr=s['werr'], ls='--', color=c[i],\n",
    "            label=l[i])\n",
    "\n",
    "plt.legend(frameon=False, title='Ngal x Ngal')\n",
    "plt.axis()\n",
    "plt.yscale('log')\n",
    "plt.ylabel(r'$ \\omega$')\n",
    "plt.xlabel(r'$\\theta[deg]$')\n",
    "# plt.savefig('./figs/xi-ngal.pdf', bbox_inches='tight')"
   ]
  },
  {
   "cell_type": "code",
   "execution_count": 17,
   "metadata": {},
   "outputs": [],
   "source": [
    "import fitsio as ft"
   ]
  },
  {
   "cell_type": "code",
   "execution_count": 18,
   "metadata": {},
   "outputs": [
    {
     "name": "stdout",
     "output_type": "stream",
     "text": [
      "EBV.dr5.hpmap256.fits        depth-z.dr5.hpmap256.fits\r\n",
      "airmass-g.dr5.hpmap256.fits  nstar.dr5.hpmap256.fits\r\n",
      "airmass-r.dr5.hpmap256.fits  seeing-g.dr5.hpmap256.fits\r\n",
      "airmass-z.dr5.hpmap256.fits  seeing-r.dr5.hpmap256.fits\r\n",
      "depth-g.dr5.hpmap256.fits    seeing-z.dr5.hpmap256.fits\r\n",
      "depth-r.dr5.hpmap256.fits\r\n"
     ]
    }
   ],
   "source": [
    "ls /global/cscratch1/sd/mehdi/dr5_anand/eboss/sysmaps256"
   ]
  },
  {
   "cell_type": "code",
   "execution_count": 19,
   "metadata": {},
   "outputs": [
    {
     "name": "stdout",
     "output_type": "stream",
     "text": [
      "NSIDE = 256\n",
      "ORDERING = RING in fits file\n",
      "INDXSCHM = IMPLICIT\n"
     ]
    }
   ],
   "source": [
    "mask2 = hp.read_map('/global/cscratch1/sd/mehdi/dr5_anand/eboss/dr5hpmask256.fits')"
   ]
  },
  {
   "cell_type": "code",
   "execution_count": 20,
   "metadata": {},
   "outputs": [
    {
     "data": {
      "text/plain": [
       "True"
      ]
     },
     "execution_count": 20,
     "metadata": {},
     "output_type": "execute_result"
    }
   ],
   "source": [
    "np.array_equal(mask, mask2)"
   ]
  },
  {
   "cell_type": "code",
   "execution_count": 21,
   "metadata": {},
   "outputs": [
    {
     "name": "stdout",
     "output_type": "stream",
     "text": [
      "NSIDE = 256\n",
      "ORDERING = RING in fits file\n",
      "INDXSCHM = IMPLICIT\n"
     ]
    }
   ],
   "source": [
    "depthr = hp.read_map('/global/cscratch1/sd/mehdi/dr5_anand/eboss/sysmaps256/depth-r.dr5.hpmap256.fits')"
   ]
  },
  {
   "cell_type": "code",
   "execution_count": 23,
   "metadata": {},
   "outputs": [
    {
     "name": "stdout",
     "output_type": "stream",
     "text": [
      "sample0 done in 1.1938483715057373 s\n",
      "sample1 done in 1.0350961685180664 s\n",
      "sample2 done in 1.0531682968139648 s\n",
      "sample3 done in 0.9895527362823486 s\n",
      "sample4 done in 0.921872615814209 s\n",
      "sample5 done in 0.934593915939331 s\n",
      "sample6 done in 0.9821133613586426 s\n",
      "sample7 done in 0.9164638519287109 s\n",
      "sample8 done in 0.8587214946746826 s\n",
      "sample9 done in 0.8805913925170898 s\n",
      "sample10 done in 0.9151060581207275 s\n",
      "sample11 done in 0.845012903213501 s\n",
      "sample12 done in 0.8381528854370117 s\n",
      "sample13 done in 0.8156116008758545 s\n",
      "sample14 done in 0.7945654392242432 s\n",
      "sample15 done in 0.8385283946990967 s\n",
      "sample16 done in 0.9010567665100098 s\n",
      "sample17 done in 0.8852388858795166 s\n",
      "sample18 done in 0.9762222766876221 s\n",
      "sample19 done in 1.227306842803955 s\n"
     ]
    }
   ],
   "source": [
    "xijackd = XI_JACK_cross(elgmap, ranmap, select_fun, depthr, mask)\n",
    "xijackd.run()"
   ]
  },
  {
   "cell_type": "code",
   "execution_count": 24,
   "metadata": {},
   "outputs": [],
   "source": [
    "np.save('/global/cscratch1/sd/mehdi/dr5_anand/march22/xi-ngaldepthr-dr5-jack256-nn-sub', xijackd.output)"
   ]
  },
  {
   "cell_type": "code",
   "execution_count": 48,
   "metadata": {},
   "outputs": [],
   "source": [
    "# lin = np.load('/global/cscratch1/sd/mehdi/dr5_anand/april3/xi-ebossdr5-cross-ngaldepth-r-lin_nside_256_njack_20.npy').item()\n",
    "nn  = np.load('/global/cscratch1/sd/mehdi/dr5_anand/april3/xi-ebossdr5-cross-ngaldepth-r-nn_nside_256_njack_20.npy').item()\n",
    "nns = np.load('/global/cscratch1/sd/mehdi/dr5_anand/march22/xi-ngaldepthr-dr5-jack256-nn-sub.npy').item()"
   ]
  },
  {
   "cell_type": "code",
   "execution_count": 68,
   "metadata": {},
   "outputs": [
    {
     "data": {
      "text/plain": [
       "Text(0.5,0,'$\\\\theta[deg]$')"
      ]
     },
     "execution_count": 68,
     "metadata": {},
     "output_type": "execute_result"
    },
    {
     "data": {
      "image/png": "[encoded data removed]",
      "text/plain": [
       "<matplotlib.figure.Figure at 0x2ab695e6bfd0>"
      ]
     },
     "metadata": {},
     "output_type": "display_data"
    }
   ],
   "source": [
    "pl = ['uni','lin']\n",
    "c  = ['green','lime', 'red', 'lightblue', 'violet', 'lightgreen']\n",
    "l  = ['NN weight', 'mean sub.', 'lin', None, None]\n",
    "for i,s in enumerate([nn, nns]):\n",
    "    b = s['t']\n",
    "    if i == 1:\n",
    "        f = .0001#084\n",
    "    else:\n",
    "        f = 0.\n",
    "    plt.errorbar(b+0.1*i, f+s['w'], \n",
    "             yerr=s['werr'], ls='--', color=c[i],\n",
    "            label=l[i])\n",
    "\n",
    "plt.legend(frameon=False, title='Ngal x depth-r', fontsize=15)\n",
    "plt.axis()\n",
    "# plt.yscale('log')\n",
    "plt.plot([1, 10], [0,0], 'k:')\n",
    "plt.ylim(-0.005, 0.005)\n",
    "plt.ylabel(r'$ \\omega$')\n",
    "plt.xlabel(r'$\\theta[deg]$')"
   ]
  },
  {
   "cell_type": "code",
   "execution_count": 55,
   "metadata": {},
   "outputs": [
    {
     "data": {
      "text/plain": [
       "(-0.00083927769011645371, 0.10033407151957963)"
      ]
     },
     "execution_count": 55,
     "metadata": {},
     "output_type": "execute_result"
    }
   ],
   "source": [
    "d = np.concatenate(xijackd.delta)\n",
    "d2 = np.concatenate(xijackd.delta2)\n",
    "w = np.concatenate(xijackd.weight)\n",
    "np.sum(d * w)/np.sum(w), np.sum(d2 * w)/np.sum(w)\n"
   ]
  },
  {
   "cell_type": "markdown",
   "metadata": {},
   "source": [
    "# Subtracting the global mean"
   ]
  },
  {
   "cell_type": "code",
   "execution_count": 1,
   "metadata": {},
   "outputs": [],
   "source": [
    "import matplotlib.pyplot as plt"
   ]
  },
  {
   "cell_type": "code",
   "execution_count": 2,
   "metadata": {},
   "outputs": [],
   "source": [
    "import sys\n",
    "sys.path.append('/global/homes/m/mehdi/github/DESILSS')"
   ]
  },
  {
   "cell_type": "code",
   "execution_count": 3,
   "metadata": {},
   "outputs": [],
   "source": [
    "import healpy as hp"
   ]
  },
  {
   "cell_type": "code",
   "execution_count": 4,
   "metadata": {},
   "outputs": [
    {
     "name": "stdout",
     "output_type": "stream",
     "text": [
      "NSIDE = 256\n",
      "ORDERING = RING in fits file\n",
      "INDXSCHM = IMPLICIT\n",
      "NSIDE = 256\n",
      "ORDERING = RING in fits file\n",
      "INDXSCHM = IMPLICIT\n",
      "NSIDE = 256\n",
      "ORDERING = RING in fits file\n",
      "INDXSCHM = IMPLICIT\n"
     ]
    }
   ],
   "source": [
    "# read elgmap and ranmap\n",
    "elgmap = hp.read_map('/global/cscratch1/sd/mehdi/dr5_anand/eboss/eBOSS.ELGhpmap.fits')\n",
    "ranmap = hp.read_map('/global/cscratch1/sd/mehdi/dr5_anand/eboss/eBOSS.ELGRANhpmap.fits')\n",
    "select_fun = hp.read_map('/global/cscratch1/sd/mehdi/dr5_anand/march22/nn-weights-hpmap256.fits')"
   ]
  },
  {
   "cell_type": "code",
   "execution_count": 5,
   "metadata": {},
   "outputs": [],
   "source": [
    "mask = ranmap > 0.2"
   ]
  },
  {
   "cell_type": "code",
   "execution_count": 6,
   "metadata": {},
   "outputs": [],
   "source": [
    "import xi"
   ]
  },
  {
   "cell_type": "code",
   "execution_count": 7,
   "metadata": {},
   "outputs": [
    {
     "name": "stdout",
     "output_type": "stream",
     "text": [
      "njack  20\n",
      "sample0 done in 1.1189677715301514 s\n",
      "sample1 done in 0.9687259197235107 s\n",
      "sample2 done in 0.9523248672485352 s\n",
      "sample3 done in 0.9050469398498535 s\n",
      "sample4 done in 0.8868515491485596 s\n",
      "sample5 done in 0.8831722736358643 s\n",
      "sample6 done in 0.9080836772918701 s\n",
      "sample7 done in 0.8620831966400146 s\n",
      "sample8 done in 0.8313279151916504 s\n",
      "sample9 done in 0.8691844940185547 s\n",
      "sample10 done in 0.870124101638794 s\n",
      "sample11 done in 0.8361454010009766 s\n",
      "sample12 done in 0.802133321762085 s\n",
      "sample13 done in 0.7808656692504883 s\n",
      "sample14 done in 0.7712242603302002 s\n",
      "sample15 done in 0.785132884979248 s\n",
      "sample16 done in 0.8235683441162109 s\n",
      "sample17 done in 0.8898541927337646 s\n",
      "sample18 done in 1.0219943523406982 s\n",
      "sample19 done in 1.1351072788238525 s\n"
     ]
    }
   ],
   "source": [
    "xijack = xi.XI_JACK(elgmap, ranmap, select_fun, mask)\n",
    "xijack.run()"
   ]
  },
  {
   "cell_type": "code",
   "execution_count": 13,
   "metadata": {},
   "outputs": [
    {
     "data": {
      "text/plain": [
       "dict_keys(['alls', 't', 'njack', 'w', 'werr', 'wjacks', 'nside', 'dmean'])"
      ]
     },
     "execution_count": 13,
     "metadata": {},
     "output_type": "execute_result"
    }
   ],
   "source": [
    "xijack.output.keys()"
   ]
  },
  {
   "cell_type": "code",
   "execution_count": 11,
   "metadata": {},
   "outputs": [],
   "source": [
    "import numpy as np"
   ]
  },
  {
   "cell_type": "code",
   "execution_count": 12,
   "metadata": {},
   "outputs": [
    {
     "data": {
      "text/plain": [
       "array([ 0.00741934,  0.00276482,  0.00200476,  0.00146786,  0.00102769,\n",
       "        0.00080781,  0.00066014,  0.0005574 ,  0.00047455,  0.00030245,\n",
       "        0.00016023,  0.00024783,  0.00030078])"
      ]
     },
     "execution_count": 12,
     "metadata": {},
     "output_type": "execute_result"
    }
   ],
   "source": [
    "nn  = np.load('/global/cscratch1/sd/mehdi/dr5_anand/march22/xi-dr5-jack256-nn.npy').item()\n",
    "nn['w']"
   ]
  },
  {
   "cell_type": "code",
   "execution_count": 16,
   "metadata": {},
   "outputs": [
    {
     "data": {
      "text/plain": [
       "[<matplotlib.lines.Line2D at 0x2b73fa7776a0>]"
      ]
     },
     "execution_count": 16,
     "metadata": {},
     "output_type": "execute_result"
    },
    {
     "data": {
      "image/png": "[encoded data removed]",
      "text/plain": [
       "<matplotlib.figure.Figure at 0x2b73fa777eb8>"
      ]
     },
     "metadata": {},
     "output_type": "display_data"
    }
   ],
   "source": [
    "plt.plot(nn['t'], nn['w'])\n",
    "plt.plot(xijack.output['t'], xijack.output['w']-xijack.output['dmean']**2, 'r:')"
   ]
  },
  {
   "cell_type": "code",
   "execution_count": 17,
   "metadata": {},
   "outputs": [
    {
     "data": {
      "text/plain": [
       "7.1836812583793811e-07"
      ]
     },
     "execution_count": 17,
     "metadata": {},
     "output_type": "execute_result"
    }
   ],
   "source": [
    "xijack.output['dmean']**2"
   ]
  },
  {
   "cell_type": "code",
   "execution_count": null,
   "metadata": {},
   "outputs": [],
   "source": []
  }
 ],
 "metadata": {
  "kernelspec": {
   "display_name": "Python [conda env:py3p6]",
   "language": "python",
   "name": "conda-env-py3p6-py"
  },
  "language_info": {
   "codemirror_mode": {
    "name": "ipython",
    "version": 3
   },
   "file_extension": ".py",
   "mimetype": "text/x-python",
   "name": "python",
   "nbconvert_exporter": "python",
   "pygments_lexer": "ipython3",
   "version": "3.6.4"
  }
 },
 "nbformat": 4,
 "nbformat_minor": 2
}
