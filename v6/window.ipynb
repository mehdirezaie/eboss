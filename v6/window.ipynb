{
 "cells": [
  {
   "cell_type": "markdown",
   "metadata": {},
   "source": [
    "Model the window correction"
   ]
  },
  {
   "cell_type": "code",
   "execution_count": 1,
   "metadata": {},
   "outputs": [],
   "source": [
    "%matplotlib inline\n",
    "import matplotlib.pyplot as plt\n",
    "import numpy as np\n",
    "import nbodykit.lab as nb\n",
    "import nbodykit\n",
    "import fitsio as ft\n",
    "from time import time\n",
    "from   glob import glob\n",
    "import mcfit\n",
    "from scipy.interpolate import InterpolatedUnivariateSpline as IUS"
   ]
  },
  {
   "cell_type": "code",
   "execution_count": 2,
   "metadata": {},
   "outputs": [],
   "source": [
    "plt.rc('font', size=20)"
   ]
  },
  {
   "cell_type": "code",
   "execution_count": 3,
   "metadata": {},
   "outputs": [],
   "source": [
    "from scipy.special import legendre\n",
    "\n",
    "def RR_to_ell(RR, mu_bins, ell):\n",
    "    mu_mid       = 0.5*(mu_bins[:-1]+mu_bins[1:])\n",
    "    legendre_pol = (2*ell+1.)*legendre(ell)(mu_mid)\n",
    "    mu_diff      = np.diff(mu_bins) \n",
    "    result       = RR * legendre_pol * mu_diff\n",
    "    print(result.shape)\n",
    "    RR_ell       = np.sum(result, axis=-1) / np.sum(mu_bins)\n",
    "    return RR_ell    \n",
    "\n",
    "def plot_RRellr(RR, ells=[0, 2, 4]):    \n",
    "    for ell in ells:\n",
    "        x   = RR.pairs.edges['r']\n",
    "        y   = RR_to_ell(RR.pairs['wnpairs'], RR.pairs.edges['mu'], ell)\n",
    "        dx  = np.diff(x)\n",
    "        xc  = 0.5*(x[1:]+x[:-1])\n",
    "        vol = 4*np.pi*xc**2*dx    \n",
    "        y  /= vol\n",
    "        #print(y[0])\n",
    "        #y /= y[3]\n",
    "        plt.plot(xc, y, label='ell=%d'%ell)\n",
    "    plt.legend()\n",
    "    plt.xscale('log')\n",
    "    plt.xlim(10, 4e3)\n",
    "    #plt.ylim(-1.5, 1.1)\n",
    "    # plt.xlim(xmin=1)\n",
    "    \n",
    "\n",
    "def read_florian():    \n",
    "    lbls = 'W^0_0(k) W^0_1(k) W^0_2(k) W^0_3(k) W^0_4(k) W^1_0(k)'\\\n",
    "        +' W^1_1(k) W^1_2(k) W^1_3(k) W^1_4(k) W^2_0(k) W^2_1(k) W^2_2(k) W^2_3(k) W^2_4(k) Nmodes'\n",
    "    tlb = lbls.split(' ')    \n",
    "    d = np.loadtxt('/home/mehdi/data/eboss/v6/win_eBOSS_DR16_QSO_v6_NGC_TSC_600_600_600_10000_merged.dat', \n",
    "                   skiprows=30)\n",
    "    w_dicts = {}\n",
    "    for i, j in enumerate(range(2, 17)):\n",
    "        k = d[:, 0]\n",
    "        w = d[:, j]\n",
    "        w_dicts[tlb[i]] = w\n",
    "    return k, w_dicts    \n",
    "\n",
    "\n",
    "\n",
    "def plot_W0ellr(k, w_dicts, ax=None, ells=[0, 2, 4]):\n",
    "    Klog = np.logspace(np.log10(k.min()), np.log10(2.0), num=1024, endpoint=True)\n",
    "    if ax is None:\n",
    "        fig,ax = plt.subplots(figsize=(8, 6))\n",
    "    for ell in ells:\n",
    "        wius = IUS(k, w_dicts['W^0_%d(k)'%ell], ext=1)\n",
    "        wk   = wius(Klog)        \n",
    "        print(Klog[-10:], wk[-10:])\n",
    "        #for i in range(Klog.size):\n",
    "        #    print([Klog[i], wk[i]])\n",
    "        #break\n",
    "        r, wr = mcfit.P2xi(Klog, l=ell)(wk)\n",
    "        sf = 1 if ell==2 else 1\n",
    "        ax.plot(r, sf*wr, label=r'$W^0_%d$'%ell)\n",
    "    ax.axhline(0.0, color='k')\n",
    "    ax.set_xscale('log')\n",
    "    ax.set_xlim(10, 4e3)\n",
    "    # plt.ylim(0, 2.e-10)\n",
    "    ax.set_xlabel('r')\n",
    "    ax.legend(fontsize=20)\n",
    "    \n",
    "    \n",
    "def plot_W0ellk(k, w_dicts, ax=None, ells=[0, 2, 4]):\n",
    "    if ax is None:fig, ax = plt.subplots(figsize=(8, 6))\n",
    "    for l in ells:\n",
    "        w = w_dicts['W^0_%d(k)'%l]\n",
    "        ax.plot(k, w, label=r'$W^0_%d$'%l, marker='.')\n",
    "\n",
    "    #ax.axhline(0.0, color='k')\n",
    "    ax.set_xscale('log')\n",
    "    #ax.set_xlim(1.e-4, 2e-2)\n",
    "    #ax.set_xlim(1.e-4, 0.5)\n",
    "    #plt.ylim(0, 2.e-10)\n",
    "    ax.set_xlabel('k')\n",
    "    ax.legend(fontsize=20)    \n",
    "    \n",
    "    \n",
    "# def plot_RRr(RR):\n",
    "#     dr = np.diff(edges)\n",
    "#     plt.plot(edges[:-1], RR1d.pairs['wnpairs']/ ((4*np.pi*edges[:-1]**2*dr)))\n",
    "#     plt.xscale('log')\n",
    "#     plt.xlim(xmin=1)    \n",
    "    \n",
    "    \n",
    "def plot_RRrmu(RR):\n",
    "    for j, mu_j in enumerate(RR.pairs.edges['mu'][:-1]):\n",
    "        #print(j)\n",
    "        plt.plot(RR.pairs.edges['r'][:-1], RR.pairs['wnpairs'][:, j], label=r'$\\mu$=%.1f'%mu_j)\n",
    "    plt.legend(bbox_to_anchor=(1.1, 1.1))\n",
    "    plt.ylabel('RR(r)')\n",
    "    plt.xlabel('r')        "
   ]
  },
  {
   "cell_type": "markdown",
   "metadata": {},
   "source": [
    "Use SurveyDataPairCount and use Nmu= 100\n",
    "Inside this SurveyDataPairCount, modify the option for 1d.\n",
    "And made mode 2d\n",
    "\n",
    "Make your code so that it addes all different mu bins aftermultiply with Legendre_ell(mu)\n"
   ]
  },
  {
   "cell_type": "markdown",
   "metadata": {},
   "source": [
    "## Florian's vs. HJ's Paircount"
   ]
  },
  {
   "cell_type": "code",
   "execution_count": 4,
   "metadata": {},
   "outputs": [],
   "source": [
    "class WINDOW(object):\n",
    "    def __init__(self, path2file='/C/sheejong/Shared/eBOSS_QSO_clustering_NGC_v6.ran'):\n",
    "        self.RR = nb.SurveyDataPairCount.load(path2file)\n",
    "    def __call__(self, ell):\n",
    "        print('ell = %d'%ell)\n",
    "        x   = self.RR.pairs.edges['r']\n",
    "        y   = RR_to_ell(self.RR.pairs['wnpairs'], \n",
    "                        self.RR.pairs.edges['mu'], ell)\n",
    "        dx  = np.diff(x)\n",
    "        xc  = 0.5*(x[1:]+x[:-1])\n",
    "        vol = 4*np.pi*xc**2*dx    \n",
    "        y  /= vol\n",
    "        self.r  = xc\n",
    "        self.wr = y\n",
    "        #return xc, y        \n",
    "    def Wr2Wk(self, rmin=None, rmax=None, zero=False):\n",
    "        if rmin is None:\n",
    "            rmin = self.r.min()\n",
    "        if rmax is None:\n",
    "            rmax = self.r.max()\n",
    "        rgrid   = np.logspace(np.log10(rmin), np.log10(rmax), \n",
    "                              self.r.size, endpoint=True)  \n",
    "        if zero:self.wr[self.r<5] = 0.0\n",
    "        w_inter = IUS(self.r, self.wr, ext=1)\n",
    "        #w_inter.set_smoothing_factor(100)\n",
    "        wr      = w_inter(rgrid)\n",
    "        k, wk   = mcfit.xi2P(rgrid)(wr)\n",
    "        self.k  = k\n",
    "        self.wk = wk\n",
    "        self.re = rgrid\n",
    "        self.wre = wr"
   ]
  },
  {
   "cell_type": "code",
   "execution_count": 5,
   "metadata": {},
   "outputs": [],
   "source": [
    "def Wk2Wr(k, w):\n",
    "    klog = np.logspace(np.log10(k.min()), np.log10(k.max()), \n",
    "                       num=k.size, endpoint=True)\n",
    "    \n",
    "    w_interpolated = IUS(k, w, ext=1)\n",
    "    wk   = w_interpolated(klog)        \n",
    "    return mcfit.P2xi(klog, l=0)(wk)    \n",
    "\n",
    "class WINDOWf(object):\n",
    "    def __init__(self):\n",
    "        k, w_dicts = read_florian()\n",
    "        self.k     = k\n",
    "        self.wdict = w_dicts\n",
    "        \n",
    "    def __call__(self, ell, fix):\n",
    "        self.ell = ell\n",
    "        self.wk  = self.wdict['W^0_%d(k)'%ell]\n",
    "        self._fixWk(fix) # fix Wk\n",
    "        #\n",
    "        \n",
    "    def _fixWk(self, fix):\n",
    "        if fix:\n",
    "            funct     = lambda x:5.e-12*np.power(x, -3.8)\n",
    "            mask      = self.k > 0.02            \n",
    "            wk_last   = self.wk[~mask][-1]\n",
    "            k_last    = self.k[~mask][-1]\n",
    "            self.wk[mask] = funct(self.k[mask])/funct(k_last)*wk_last\n",
    "            \n",
    "                             \n",
    "    def Wk2Wr(self, kmin=None, kmax=None):\n",
    "        if kmin is None:\n",
    "            kmin = self.k.min()\n",
    "        if kmax is None:\n",
    "            kmax = self.k.max()\n",
    "        klog = np.logspace(np.log10(kmin), np.log10(kmax), \n",
    "                           num=self.k.size, endpoint=True)\n",
    "\n",
    "        w_interpolated = IUS(self.k, self.wk, ext=1)\n",
    "        wk   = w_interpolated(klog)        \n",
    "        r,wr = mcfit.P2xi(klog, l=self.ell)(wk)           \n",
    "        self.r = r\n",
    "        self.wr= wr                \n",
    "        self.ke  = klog\n",
    "        self.wke = wk\n",
    "        \n",
    "    # def _IUS(self):\n",
    "    #     funct     = lambda x:5.e-12*np.power(x, -3.8)\n",
    "    #     myk       = self.k.copy()\n",
    "    #     dk        = myk[1]-myk[0] \n",
    "    #     mask      = myk>=2.e-2\n",
    "    #     myw       = self.wk.copy()\n",
    "    #     mykc      = myk[mask]\n",
    "    #     myw[mask] = funct(mykc)\n",
    "    #     kextra    = np.arange(1.001*mykc.max(), 10., dk)\n",
    "    #     wextra    = funct(kextra)\n",
    "\n",
    "    #     myk_e     = np.concatenate([myk, kextra])\n",
    "    #     myw_e     = np.concatenate([myw, wextra])        \n",
    "    #     self.kef  = myk_e\n",
    "    #     self.wkef = myw_e\n",
    "\n",
    "    #     self.rwr_f = Wk2Wr(myk_e, myw_e)"
   ]
  },
  {
   "cell_type": "code",
   "execution_count": 6,
   "metadata": {},
   "outputs": [
    {
     "name": "stderr",
     "output_type": "stream",
     "text": [
      "/home/mehdi/miniconda3/envs/py3p6/lib/python3.7/site-packages/mcfit/mcfit.py:125: UserWarning: The default value of lowring has been changed to False, set it to True if you cannot reproduce previous results\n",
      "  warnings.warn(\"The default value of lowring has been changed to False, \"\n",
      "/home/mehdi/miniconda3/envs/py3p6/lib/python3.7/site-packages/mcfit/mcfit.py:219: UserWarning: The default value of extrap has been changed to False, set it to True if you cannot reproduce previous results\n",
      "  warnings.warn(\"The default value of extrap has been changed to False, \"\n"
     ]
    },
    {
     "data": {
      "image/png": "[encoded data removed]",
      "text/plain": [
       "<Figure size 1008x432 with 2 Axes>"
      ]
     },
     "metadata": {
      "needs_background": "light"
     },
     "output_type": "display_data"
    }
   ],
   "source": [
    "R  = []\n",
    "WR = []\n",
    "fig, ax = plt.subplots(ncols=2, figsize=(14, 6))\n",
    "\n",
    "for ell in [0, 2, 4]:\n",
    "    fourier   = WINDOWf()\n",
    "    fourier(ell, fix=True)\n",
    "    fourier.Wk2Wr()\n",
    "    R.append(fourier.r)\n",
    "    WR.append(fourier.wr)\n",
    "    ax[0].plot(fourier.r, fourier.wr, ls='-')\n",
    "    ax[1].plot(fourier.k, fourier.wk, ls='--', label=r'$\\ell$ = %d'%ell)\n",
    "    \n",
    "ax[0].set_xlabel('r')\n",
    "ax[0].set_ylabel('W$^{0}_{\\ell}$(r)')\n",
    "ax[1].set_xlabel('k')\n",
    "ax[1].set_ylabel('W$^{0}_{\\ell}$(k)')\n",
    "ax[1].legend()\n",
    "for axi in ax:axi.set_xscale('log')\n",
    "#ax[1].set_yscale('log')\n",
    "#np.savetxt('./Wr_ell.txt', np.column_stack([R[0], WR[0], WR[1], WR[2]]), header=' r W0 W2 w4')    "
   ]
  },
  {
   "cell_type": "code",
   "execution_count": 11,
   "metadata": {},
   "outputs": [
    {
     "data": {
      "image/png": "[encoded data removed]",
      "text/plain": [
       "<Figure size 1008x432 with 2 Axes>"
      ]
     },
     "metadata": {
      "needs_background": "light"
     },
     "output_type": "display_data"
    }
   ],
   "source": [
    "R  = []\n",
    "WR = []\n",
    "fig, ax = plt.subplots(ncols=2, figsize=(14, 6))\n",
    "\n",
    "for ell in [0, 2, 4]:\n",
    "    fourier   = WINDOWf()\n",
    "    fourier(ell, fix=False)\n",
    "    fourier.Wk2Wr()\n",
    "    R.append(fourier.r)\n",
    "    WR.append(fourier.wr)\n",
    "    ax[0].plot(fourier.r, fourier.wr, ls='-')\n",
    "    ax[1].plot(fourier.k, fourier.wk, ls='--', label=r'$\\ell$ = %d'%ell)\n",
    "    \n",
    "ax[0].set_xlabel('r')\n",
    "ax[0].set_ylabel('W$^{0}_{\\ell}$(r)')\n",
    "ax[1].set_xlabel('k')\n",
    "ax[1].set_ylabel('W$^{0}_{\\ell}$(k)')\n",
    "ax[1].legend()\n",
    "for axi in ax:axi.set_xscale('log')\n",
    "#ax[1].set_yscale('log')\n",
    "#np.savetxt('./Wr_ell.txt', np.column_stack([R[0], WR[0], WR[1], WR[2]]), header=' r W0 W2 w4')    \n",
    "\n"
   ]
  },
  {
   "cell_type": "code",
   "execution_count": 10,
   "metadata": {},
   "outputs": [
    {
     "name": "stdout",
     "output_type": "stream",
     "text": [
      "ell = 2\n",
      "(99, 20)\n"
     ]
    },
    {
     "data": {
      "text/plain": [
       "(1e-15, 100.0)"
      ]
     },
     "execution_count": 10,
     "metadata": {},
     "output_type": "execute_result"
    },
    {
     "data": {
      "image/png": "[encoded data removed]",
      "text/plain": [
       "<Figure size 864x720 with 2 Axes>"
      ]
     },
     "metadata": {
      "needs_background": "light"
     },
     "output_type": "display_data"
    }
   ],
   "source": [
    "ell       = 2\n",
    "paircount = WINDOW()\n",
    "paircount(ell)\n",
    "paircount.Wr2Wk()\n",
    "\n",
    "fourier   = WINDOWf()\n",
    "fourier(ell, fix=False)\n",
    "fourier.Wk2Wr()\n",
    "\n",
    "\n",
    "plt.figure(figsize=(12, 10))\n",
    "plt.subplot(222)\n",
    "plt.plot(paircount.r, paircount.wr/paircount.wk[0])\n",
    "plt.plot(fourier.r,   fourier.wr)\n",
    "#plt.plot(fourier.rwr_f[0], fourier.rwr_f[1]/f1)\n",
    "plt.xlabel('r')\n",
    "plt.ylabel('Wr')\n",
    "plt.xscale('log')\n",
    "\n",
    "plt.subplot(221)\n",
    "plt.plot(paircount.k, paircount.wk/paircount.wk[0], '+')\n",
    "#plt.plot(fourier.k,   fourier.wk/f1)\n",
    "plt.plot(fourier.k,   fourier.wk)\n",
    "#plt.plot(fourier.kef, fourier.wkef/f1)\n",
    "plt.xlabel('k')\n",
    "plt.ylabel(f'Wk$^{0}_{ell}$')\n",
    "#plt.loglog()\n",
    "plt.xscale('log')\n",
    "#plt.yscale('log')\n",
    "plt.ylim(1e-15, 1.e2)"
   ]
  },
  {
   "cell_type": "code",
   "execution_count": null,
   "metadata": {},
   "outputs": [],
   "source": [
    "ell       = 2\n",
    "paircount = WINDOW()\n",
    "paircount(ell)\n",
    "paircount.Wr2Wk()\n",
    "\n",
    "fourier   = WINDOWf()\n",
    "fourier(ell)\n",
    "fourier.Wk2Wr()\n",
    "\n",
    "\n",
    "plt.figure(figsize=(12, 10))\n",
    "plt.subplot(222)\n",
    "plt.plot(paircount.r, paircount.wr/paircount.wk[0])\n",
    "plt.plot(fourier.r,   fourier.wr)\n",
    "#plt.plot(fourier.rwr_f[0], fourier.rwr_f[1]/f1)\n",
    "plt.xlabel('r')\n",
    "plt.ylabel('Wr')\n",
    "plt.xscale('log')\n",
    "\n",
    "plt.subplot(221)\n",
    "plt.plot(paircount.k, paircount.wk/paircount.wk[0], '+')\n",
    "#plt.plot(fourier.k,   fourier.wk/f1)\n",
    "plt.plot(fourier.k,   fourier.wk)\n",
    "#plt.plot(fourier.kef, fourier.wkef/f1)\n",
    "plt.xlabel('k')\n",
    "plt.ylabel(f'Wk$^{0}_{ell}$')\n",
    "plt.xlim(0.0001, 0.3)\n",
    "#plt.loglog()\n",
    "plt.xscale('log')\n",
    "#plt.yscale('log')\n",
    "#plt.ylim(1e-15, 1.e2)"
   ]
  },
  {
   "cell_type": "code",
   "execution_count": null,
   "metadata": {},
   "outputs": [],
   "source": [
    "ell       = 2\n",
    "paircount = WINDOW()\n",
    "paircount(ell)\n",
    "paircount.Wr2Wk(rmin=0.1, rmax=100000.)\n",
    "\n",
    "fourier   = WINDOWf()\n",
    "fourier(ell)\n",
    "fourier.Wk2Wr(kmax=10.)\n",
    "plt.figure(figsize=(13, 10))\n",
    "\n",
    "plt.subplot(221)\n",
    "plt.plot(paircount.k, 1.0e-11*paircount.wk)\n",
    "plt.plot(fourier.ke,   fourier.wke)\n",
    "plt.xlabel('k')\n",
    "plt.ylabel(f'Wk$^{0}_{ell}$')\n",
    "plt.xscale('log')\n",
    "plt.ylim(-0.2, 0.2)\n",
    "\n",
    "\n",
    "plt.subplot(222)\n",
    "plt.plot(paircount.re, 1.0e-11*paircount.wre, label='Paircount')\n",
    "plt.plot(fourier.r,   fourier.wr, label='Fourier')\n",
    "plt.xlabel('r')\n",
    "plt.ylabel(f'Wr$^{0}_{ell}$')\n",
    "plt.xscale('log')\n",
    "plt.ylim(-0.5e-10, 0.5e-10)\n",
    "plt.legend()\n",
    "# #plt.loglog()"
   ]
  },
  {
   "cell_type": "code",
   "execution_count": null,
   "metadata": {},
   "outputs": [],
   "source": [
    "ell       = 4\n",
    "paircount = WINDOW()\n",
    "paircount(ell)\n",
    "paircount.Wr2Wk(rmin=0.1, rmax=100000.)\n",
    "\n",
    "fourier   = WINDOWf()\n",
    "fourier(ell)\n",
    "fourier.Wk2Wr(kmax=10.)\n",
    "plt.figure(figsize=(13, 10))\n",
    "\n",
    "plt.subplot(221)\n",
    "plt.plot(paircount.k, 1.0e-11*paircount.wk)\n",
    "plt.plot(fourier.ke,   fourier.wke)\n",
    "plt.xlabel('k')\n",
    "plt.ylabel(f'Wk$^{0}_{ell}$')\n",
    "plt.xscale('log')\n",
    "plt.ylim(-0.2, 0.2)\n",
    "\n",
    "\n",
    "plt.subplot(222)\n",
    "plt.plot(paircount.re, 1.0e-11*paircount.wre, label='Paircount')\n",
    "plt.plot(fourier.r,   fourier.wr, label='Fourier')\n",
    "plt.xlabel('r')\n",
    "plt.ylabel(f'Wr$^{0}_{ell}$')\n",
    "plt.xscale('log')\n",
    "plt.ylim(-0.5e-10, 0.5e-10)\n",
    "plt.legend()\n",
    "# #plt.loglog()"
   ]
  },
  {
   "cell_type": "markdown",
   "metadata": {},
   "source": [
    "Print W0,2,4 into a file "
   ]
  },
  {
   "cell_type": "code",
   "execution_count": null,
   "metadata": {},
   "outputs": [],
   "source": [
    "ell       = 1\n",
    "paircount = WINDOW()\n",
    "paircount(ell)\n",
    "paircount.Wr2Wk(rmin=0.1, rmax=100000.)\n",
    "\n",
    "fourier   = WINDOWf()\n",
    "fourier(ell)\n",
    "fourier.Wk2Wr(kmin=1.e-6, kmax=10.)\n",
    "plt.figure(figsize=(13, 10))\n",
    "\n",
    "plt.subplot(221)\n",
    "plt.plot(paircount.k, 1.0e-11*paircount.wk)\n",
    "plt.plot(fourier.ke,   fourier.wke)\n",
    "plt.xlabel('k')\n",
    "plt.ylabel(f'Wk$^{0}_{ell}$')\n",
    "plt.xscale('log')\n",
    "plt.ylim(-0.2, 0.2)\n",
    "\n",
    "\n",
    "plt.subplot(222)\n",
    "plt.plot(paircount.re, 1.0e-11*paircount.wre, label='Paircount')\n",
    "plt.plot(fourier.r,   fourier.wr, label='Fourier')\n",
    "plt.xlabel('r')\n",
    "plt.ylabel(f'Wr$^{0}_{ell}$')\n",
    "plt.xscale('log')\n",
    "plt.ylim(-0.5e-10, 0.5e-10)\n",
    "plt.legend()\n",
    "# #plt.loglog()"
   ]
  },
  {
   "cell_type": "code",
   "execution_count": null,
   "metadata": {},
   "outputs": [],
   "source": [
    "plt.plot(xik, 1.e-11*pk)\n",
    "plt.plot(k, w_dicts['W^0_0(k)'])\n",
    "plt.plot(k, 5.e-12*np.power(k, -3.8), 'k--')\n",
    "plt.loglog()\n",
    "plt.xlim(1.e-2, 2.e-1)\n",
    "plt.ylim(1.e-15, 12)"
   ]
  },
  {
   "cell_type": "code",
   "execution_count": null,
   "metadata": {},
   "outputs": [],
   "source": []
  },
  {
   "cell_type": "code",
   "execution_count": null,
   "metadata": {},
   "outputs": [],
   "source": [
    "funct = lambda x:5.e-12*np.power(x, -3.8)\n",
    "myk   = k.copy()\n",
    "dk    = myk[1]-myk[0] \n",
    "mask  = myk>=2.e-2\n",
    "myw   = w_dicts['W^0_0(k)'].copy()\n",
    "mykc  = myk[mask]\n",
    "myw[mask] = funct(mykc)\n",
    "kextra = np.arange(1.001*mykc.max(), 10., dk)\n",
    "wextra = funct(kextra)\n",
    "\n",
    "myk_e  = np.concatenate([myk, kextra])\n",
    "myw_e  = np.concatenate([myw, wextra])"
   ]
  },
  {
   "cell_type": "code",
   "execution_count": null,
   "metadata": {},
   "outputs": [],
   "source": [
    "plt.plot(xik, 1.e-11*pk)\n",
    "plt.plot(k, w_dicts['W^0_0(k)'])\n",
    "plt.plot(myk, myw, 'k--')\n",
    "plt.plot(myk_e, myw_e, 'r--')\n",
    "plt.loglog()\n",
    "#plt.xlim(1.e-2, 2.e-1)\n",
    "plt.ylim(1.e-15, 12)"
   ]
  },
  {
   "cell_type": "code",
   "execution_count": null,
   "metadata": {},
   "outputs": [],
   "source": [
    "def Wk2Wr(k, w):\n",
    "    klog = np.logspace(np.log10(k.min()), np.log10(k.max()), \n",
    "                       num=k.size, endpoint=True)\n",
    "    \n",
    "    w_interpolated = IUS(k, w, ext=1)\n",
    "    wk   = w_interpolated(klog)        \n",
    "    return mcfit.P2xi(klog, l=0)(wk)    "
   ]
  },
  {
   "cell_type": "code",
   "execution_count": null,
   "metadata": {},
   "outputs": [],
   "source": [
    "rWr = Wk2Wr(myk_e, myw_e)"
   ]
  },
  {
   "cell_type": "code",
   "execution_count": null,
   "metadata": {},
   "outputs": [],
   "source": [
    "# plt.plot(xc, y)\n",
    "plt.plot(rWr[0], 1.0e11*rWr[1]/7.32387230, 'r-')\n",
    "plt.xscale('log')\n"
   ]
  },
  {
   "cell_type": "code",
   "execution_count": null,
   "metadata": {
    "scrolled": false
   },
   "outputs": [],
   "source": [
    "fig, ax = plt.subplots(ncols=2, figsize=(16, 6))\n",
    "plot_W0ellr(k, w_dicts, ax=ax[0])\n",
    "plot_W0ellk(k, w_dicts, ax=ax[1])\n",
    "# ax[1].axis([8.e-3, 2.e-2, 0.1, 0.1])"
   ]
  },
  {
   "cell_type": "markdown",
   "metadata": {},
   "source": [
    "## read the randoms catalog"
   ]
  },
  {
   "cell_type": "code",
   "execution_count": null,
   "metadata": {},
   "outputs": [],
   "source": [
    "#randoms = ft.read('/Volumes/TimeMachine/data/eboss/v6/eBOSS_QSO_clustering_NGC_v6.ran.fits', lower=True)\n",
    "randoms = ft.read('/Volumes/TimeMachine/data/eboss/v6/eBOSS_QSO_clustering_NGC_v6_100k.ran.fits', lower=True)\n",
    "print(randoms.dtype.names)\n",
    "# randoms = np.random.choice(randoms, size=10000, replace=False)\n",
    "randoms = nb.ArrayCatalog(randoms)\n",
    "randoms['Weight'] = randoms['weight_cp']*randoms['weight_noz']*randoms['weight_systot']*randoms['weight_fkp']\n",
    "\n",
    "def run():\n",
    "    t0 = time()    \n",
    "    edges = np.logspace(np.log10(0.1), np.log10(5000.0), 100)\n",
    "    # edges = np.linspace(0.001, 5000.0, 100)\n",
    "    cosmo = nb.cosmology.Planck15\n",
    "    RR    = nb.SurveyDataPairCount('2d', randoms, edges, Nmu=20, cosmo=cosmo, \n",
    "                                   ra='ra', dec='dec', redshift='z', weight='Weight',\n",
    "                                   show_progress=1)\n",
    "    print('took {} sec'.format(time()-t0))\n",
    "    return RR\n",
    "RR = run()\n",
    "RR.save('/Volumes/TimeMachine/data/eboss/v6/eBOSS_QSO_clustering_NGC_v6_100k.RR.ran.json')"
   ]
  },
  {
   "cell_type": "code",
   "execution_count": null,
   "metadata": {},
   "outputs": [],
   "source": [
    "for ell in [0, 2, 4]:\n",
    "    x   = RR.pairs.edges['r']\n",
    "    y   = RR_to_ell(RR.pairs['wnpairs'], RR.pairs.edges['mu'], ell)\n",
    "    dx  = np.diff(x)\n",
    "    xc  = 0.5*(x[1:]+x[:-1])\n",
    "    vol = 4*np.pi*xc**2*dx    \n",
    "    y  /= vol\n",
    "    print(y[0])\n",
    "    plt.plot(xc, y, label='ell=%d'%ell)\n",
    "plt.legend()\n",
    "# plt.xscale('log')\n",
    "# plt.xlim(xmin=1)"
   ]
  }
 ],
 "metadata": {
  "kernelspec": {
   "display_name": "python (py3p6)",
   "language": "python",
   "name": "py3p6"
  },
  "language_info": {
   "codemirror_mode": {
    "name": "ipython",
    "version": 3
   },
   "file_extension": ".py",
   "mimetype": "text/x-python",
   "name": "python",
   "nbconvert_exporter": "python",
   "pygments_lexer": "ipython3",
   "version": "3.7.4"
  }
 },
 "nbformat": 4,
 "nbformat_minor": 2
}
