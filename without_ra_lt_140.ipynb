{
 "cells": [
  {
   "cell_type": "code",
   "execution_count": 1,
   "metadata": {},
   "outputs": [],
   "source": [
    "'''\n",
    "    Goal: train the network only on the region with RA > 140\n",
    "\n",
    "'''\n",
    "%matplotlib inline\n",
    "import matplotlib.pyplot as plt\n",
    "import numpy as np"
   ]
  },
  {
   "cell_type": "code",
   "execution_count": 9,
   "metadata": {},
   "outputs": [],
   "source": [
    "from do_systematics_fit import get_systematic_weights"
   ]
  },
  {
   "cell_type": "code",
   "execution_count": 16,
   "metadata": {},
   "outputs": [],
   "source": [
    "import sys\n",
    "sys.path.append('/home/mehdi/github/LSSutils')\n",
    "from LSSutils.utils import split2Kfolds, hpix2radec"
   ]
  },
  {
   "cell_type": "code",
   "execution_count": 8,
   "metadata": {},
   "outputs": [],
   "source": [
    "import fitsio as ft"
   ]
  },
  {
   "cell_type": "code",
   "execution_count": 17,
   "metadata": {},
   "outputs": [],
   "source": [
    "def remove_ra140(ngc):\n",
    "    ra, _ = hpix2radec(512, ngc['hpind'])\n",
    "    return ngc[ra > 139.0]\n",
    "\n",
    "def main(ngc):\n",
    "    ngc_ra = remove_ra140(ngc)\n",
    "    ngc5k = split2Kfolds(ngc_ra)\n",
    "    return ngc5k   "
   ]
  },
  {
   "cell_type": "code",
   "execution_count": 23,
   "metadata": {},
   "outputs": [],
   "source": [
    "for zsplit in ['all', 'zhigh']:    \n",
    "    #\n",
    "    ngc = ft.read(f'/B/Shared/mehdi/eboss/data/v7_2/0.3/ngal_features_NGC_{zsplit}_512.fits')\n",
    "    ngc_i = main(ngc)\n",
    "    np.save(f'/B/Shared/mehdi/eboss/data/v7_2/0.3/ngal_features_NGC_{zsplit}_racut_512.5r.npy', ngc_i)"
   ]
  },
  {
   "cell_type": "code",
   "execution_count": 24,
   "metadata": {},
   "outputs": [
    {
     "name": "stdout",
     "output_type": "stream",
     "text": [
      "/B/Shared/mehdi/eboss/data/v7_2/0.3/ngal_features_NGC_all_racut_512.5r.npy\r\n",
      "/B/Shared/mehdi/eboss/data/v7_2/0.3/ngal_features_NGC_zhigh_racut_512.5r.npy\r\n"
     ]
    }
   ],
   "source": [
    "ls /B/Shared/mehdi/eboss/data/v7_2/0.3/ngal*racut*"
   ]
  },
  {
   "cell_type": "code",
   "execution_count": null,
   "metadata": {},
   "outputs": [],
   "source": []
  }
 ],
 "metadata": {
  "kernelspec": {
   "display_name": "python (py3p6)",
   "language": "python",
   "name": "py3p6"
  },
  "language_info": {
   "codemirror_mode": {
    "name": "ipython",
    "version": 3
   },
   "file_extension": ".py",
   "mimetype": "text/x-python",
   "name": "python",
   "nbconvert_exporter": "python",
   "pygments_lexer": "ipython3",
   "version": "3.7.4"
  }
 },
 "nbformat": 4,
 "nbformat_minor": 2
}
